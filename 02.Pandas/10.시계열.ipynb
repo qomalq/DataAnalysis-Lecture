{
 "cells": [
  {
   "attachments": {},
   "cell_type": "markdown",
   "metadata": {},
   "source": [
    "### 8. 시계열 자료 다루기"
   ]
  },
  {
   "cell_type": "code",
   "execution_count": 1,
   "metadata": {},
   "outputs": [],
   "source": [
    "import numpy as np\n",
    "import pandas as pd"
   ]
  },
  {
   "attachments": {},
   "cell_type": "markdown",
   "metadata": {},
   "source": [
    "- DatetimeIndex"
   ]
  },
  {
   "cell_type": "code",
   "execution_count": 3,
   "metadata": {},
   "outputs": [
    {
     "data": {
      "text/plain": [
       "DatetimeIndex(['2023-04-17'], dtype='datetime64[ns]', freq=None)"
      ]
     },
     "execution_count": 3,
     "metadata": {},
     "output_type": "execute_result"
    }
   ],
   "source": [
    "date_str = ['2023-4-17']            #기본 포멧\n",
    "idx= pd.to_datetime(date_str)\n",
    "idx"
   ]
  },
  {
   "cell_type": "code",
   "execution_count": 7,
   "metadata": {},
   "outputs": [
    {
     "data": {
      "text/plain": [
       "DatetimeIndex(['2023-04-17', '2023-04-18', '2023-04-19', '2023-04-20',\n",
       "               '2023-04-21'],\n",
       "              dtype='datetime64[ns]', freq=None)"
      ]
     },
     "execution_count": 7,
     "metadata": {},
     "output_type": "execute_result"
    }
   ],
   "source": [
    "date_str = ['2023-04-17','2023-04-18','2023-04-19','2023-04-20','2023-04-21']\n",
    "idx=pd.to_datetime(date_str)\n",
    "idx"
   ]
  },
  {
   "cell_type": "code",
   "execution_count": 10,
   "metadata": {},
   "outputs": [
    {
     "data": {
      "text/html": [
       "<div>\n",
       "<style scoped>\n",
       "    .dataframe tbody tr th:only-of-type {\n",
       "        vertical-align: middle;\n",
       "    }\n",
       "\n",
       "    .dataframe tbody tr th {\n",
       "        vertical-align: top;\n",
       "    }\n",
       "\n",
       "    .dataframe thead th {\n",
       "        text-align: right;\n",
       "    }\n",
       "</style>\n",
       "<table border=\"1\" class=\"dataframe\">\n",
       "  <thead>\n",
       "    <tr style=\"text-align: right;\">\n",
       "      <th></th>\n",
       "      <th>score</th>\n",
       "    </tr>\n",
       "  </thead>\n",
       "  <tbody>\n",
       "    <tr>\n",
       "      <th>2023-04-17</th>\n",
       "      <td>69</td>\n",
       "    </tr>\n",
       "    <tr>\n",
       "      <th>2023-04-18</th>\n",
       "      <td>73</td>\n",
       "    </tr>\n",
       "    <tr>\n",
       "      <th>2023-04-19</th>\n",
       "      <td>82</td>\n",
       "    </tr>\n",
       "    <tr>\n",
       "      <th>2023-04-20</th>\n",
       "      <td>70</td>\n",
       "    </tr>\n",
       "    <tr>\n",
       "      <th>2023-04-21</th>\n",
       "      <td>79</td>\n",
       "    </tr>\n",
       "  </tbody>\n",
       "</table>\n",
       "</div>"
      ],
      "text/plain": [
       "            score\n",
       "2023-04-17     69\n",
       "2023-04-18     73\n",
       "2023-04-19     82\n",
       "2023-04-20     70\n",
       "2023-04-21     79"
      ]
     },
     "execution_count": 10,
     "metadata": {},
     "output_type": "execute_result"
    }
   ],
   "source": [
    "df = pd.DataFrame(np.random.randint(60,100,5),\n",
    "                  columns=['score'],index=idx)\n",
    "df"
   ]
  },
  {
   "cell_type": "code",
   "execution_count": 13,
   "metadata": {},
   "outputs": [
    {
     "data": {
      "text/plain": [
       "DatetimeIndex(['2023-04-01', '2023-04-02', '2023-04-03', '2023-04-04',\n",
       "               '2023-04-05', '2023-04-06', '2023-04-07', '2023-04-08',\n",
       "               '2023-04-09', '2023-04-10', '2023-04-11', '2023-04-12',\n",
       "               '2023-04-13', '2023-04-14', '2023-04-15', '2023-04-16',\n",
       "               '2023-04-17', '2023-04-18', '2023-04-19', '2023-04-20',\n",
       "               '2023-04-21', '2023-04-22', '2023-04-23', '2023-04-24',\n",
       "               '2023-04-25', '2023-04-26', '2023-04-27', '2023-04-28',\n",
       "               '2023-04-29', '2023-04-30'],\n",
       "              dtype='datetime64[ns]', freq='D')"
      ]
     },
     "execution_count": 13,
     "metadata": {},
     "output_type": "execute_result"
    }
   ],
   "source": [
    "pd.date_range('2023.4.1','2023.4.30')    # 시작일부터 종료일자"
   ]
  },
  {
   "cell_type": "code",
   "execution_count": 15,
   "metadata": {},
   "outputs": [
    {
     "data": {
      "text/plain": [
       "DatetimeIndex(['2023-04-01', '2023-04-02', '2023-04-03', '2023-04-04',\n",
       "               '2023-04-05', '2023-04-06', '2023-04-07', '2023-04-08',\n",
       "               '2023-04-09', '2023-04-10', '2023-04-11', '2023-04-12',\n",
       "               '2023-04-13', '2023-04-14', '2023-04-15', '2023-04-16',\n",
       "               '2023-04-17', '2023-04-18', '2023-04-19', '2023-04-20',\n",
       "               '2023-04-21', '2023-04-22', '2023-04-23', '2023-04-24',\n",
       "               '2023-04-25', '2023-04-26', '2023-04-27', '2023-04-28',\n",
       "               '2023-04-29', '2023-04-30'],\n",
       "              dtype='datetime64[ns]', freq='D')"
      ]
     },
     "execution_count": 15,
     "metadata": {},
     "output_type": "execute_result"
    }
   ],
   "source": [
    "pd.date_range('4/1/23',periods=30)"
   ]
  },
  {
   "cell_type": "code",
   "execution_count": 17,
   "metadata": {},
   "outputs": [
    {
     "data": {
      "text/plain": [
       "DatetimeIndex(['2023-04-03', '2023-04-04', '2023-04-05', '2023-04-06',\n",
       "               '2023-04-07', '2023-04-10', '2023-04-11', '2023-04-12',\n",
       "               '2023-04-13', '2023-04-14', '2023-04-17', '2023-04-18',\n",
       "               '2023-04-19', '2023-04-20', '2023-04-21', '2023-04-24',\n",
       "               '2023-04-25', '2023-04-26', '2023-04-27', '2023-04-28',\n",
       "               '2023-05-01', '2023-05-02', '2023-05-03', '2023-05-04',\n",
       "               '2023-05-05', '2023-05-08', '2023-05-09', '2023-05-10',\n",
       "               '2023-05-11', '2023-05-12'],\n",
       "              dtype='datetime64[ns]', freq='B')"
      ]
     },
     "execution_count": 17,
     "metadata": {},
     "output_type": "execute_result"
    }
   ],
   "source": [
    "pd.date_range('040123',periods=30, freq='B')    # week day(평일)"
   ]
  },
  {
   "cell_type": "code",
   "execution_count": 20,
   "metadata": {},
   "outputs": [
    {
     "data": {
      "text/plain": [
       "DatetimeIndex(['2023-01-02', '2023-02-01', '2023-03-01', '2023-04-03',\n",
       "               '2023-05-01', '2023-06-01', '2023-07-03', '2023-08-01',\n",
       "               '2023-09-01', '2023-10-02', '2023-11-01', '2023-12-01'],\n",
       "              dtype='datetime64[ns]', freq='BMS')"
      ]
     },
     "execution_count": 20,
     "metadata": {},
     "output_type": "execute_result"
    }
   ],
   "source": [
    "# 1년중 각 월에 시작일'\n",
    "pd.date_range('2023-1-1', '2023-12-31', freq='BMS')"
   ]
  },
  {
   "attachments": {},
   "cell_type": "markdown",
   "metadata": {},
   "source": [
    "- resample"
   ]
  },
  {
   "cell_type": "code",
   "execution_count": 22,
   "metadata": {},
   "outputs": [
    {
     "data": {
      "text/html": [
       "<div>\n",
       "<style scoped>\n",
       "    .dataframe tbody tr th:only-of-type {\n",
       "        vertical-align: middle;\n",
       "    }\n",
       "\n",
       "    .dataframe tbody tr th {\n",
       "        vertical-align: top;\n",
       "    }\n",
       "\n",
       "    .dataframe thead th {\n",
       "        text-align: right;\n",
       "    }\n",
       "</style>\n",
       "<table border=\"1\" class=\"dataframe\">\n",
       "  <thead>\n",
       "    <tr style=\"text-align: right;\">\n",
       "      <th></th>\n",
       "      <th>0</th>\n",
       "    </tr>\n",
       "  </thead>\n",
       "  <tbody>\n",
       "    <tr>\n",
       "      <th>2023-01-01</th>\n",
       "      <td>379</td>\n",
       "    </tr>\n",
       "    <tr>\n",
       "      <th>2023-01-02</th>\n",
       "      <td>888</td>\n",
       "    </tr>\n",
       "    <tr>\n",
       "      <th>2023-01-03</th>\n",
       "      <td>845</td>\n",
       "    </tr>\n",
       "    <tr>\n",
       "      <th>2023-01-04</th>\n",
       "      <td>346</td>\n",
       "    </tr>\n",
       "    <tr>\n",
       "      <th>2023-01-05</th>\n",
       "      <td>194</td>\n",
       "    </tr>\n",
       "  </tbody>\n",
       "</table>\n",
       "</div>"
      ],
      "text/plain": [
       "              0\n",
       "2023-01-01  379\n",
       "2023-01-02  888\n",
       "2023-01-03  845\n",
       "2023-01-04  346\n",
       "2023-01-05  194"
      ]
     },
     "execution_count": 22,
     "metadata": {},
     "output_type": "execute_result"
    }
   ],
   "source": [
    "ts = pd.DataFrame(np.random.randint(100,1000,100),\n",
    "                            index = pd.date_range('20230101',periods=100))\n",
    "ts.head()"
   ]
  },
  {
   "cell_type": "code",
   "execution_count": 24,
   "metadata": {},
   "outputs": [
    {
     "data": {
      "text/html": [
       "<div>\n",
       "<style scoped>\n",
       "    .dataframe tbody tr th:only-of-type {\n",
       "        vertical-align: middle;\n",
       "    }\n",
       "\n",
       "    .dataframe tbody tr th {\n",
       "        vertical-align: top;\n",
       "    }\n",
       "\n",
       "    .dataframe thead th {\n",
       "        text-align: right;\n",
       "    }\n",
       "</style>\n",
       "<table border=\"1\" class=\"dataframe\">\n",
       "  <thead>\n",
       "    <tr style=\"text-align: right;\">\n",
       "      <th></th>\n",
       "      <th>0</th>\n",
       "    </tr>\n",
       "  </thead>\n",
       "  <tbody>\n",
       "    <tr>\n",
       "      <th>2023-01-31</th>\n",
       "      <td>379</td>\n",
       "    </tr>\n",
       "    <tr>\n",
       "      <th>2023-02-28</th>\n",
       "      <td>487</td>\n",
       "    </tr>\n",
       "    <tr>\n",
       "      <th>2023-03-31</th>\n",
       "      <td>461</td>\n",
       "    </tr>\n",
       "    <tr>\n",
       "      <th>2023-04-30</th>\n",
       "      <td>594</td>\n",
       "    </tr>\n",
       "  </tbody>\n",
       "</table>\n",
       "</div>"
      ],
      "text/plain": [
       "              0\n",
       "2023-01-31  379\n",
       "2023-02-28  487\n",
       "2023-03-31  461\n",
       "2023-04-30  594"
      ]
     },
     "execution_count": 24,
     "metadata": {},
     "output_type": "execute_result"
    }
   ],
   "source": [
    "ts.resample('M').first()"
   ]
  },
  {
   "cell_type": "code",
   "execution_count": 25,
   "metadata": {},
   "outputs": [
    {
     "data": {
      "text/html": [
       "<div>\n",
       "<style scoped>\n",
       "    .dataframe tbody tr th:only-of-type {\n",
       "        vertical-align: middle;\n",
       "    }\n",
       "\n",
       "    .dataframe tbody tr th {\n",
       "        vertical-align: top;\n",
       "    }\n",
       "\n",
       "    .dataframe thead th {\n",
       "        text-align: right;\n",
       "    }\n",
       "</style>\n",
       "<table border=\"1\" class=\"dataframe\">\n",
       "  <thead>\n",
       "    <tr style=\"text-align: right;\">\n",
       "      <th></th>\n",
       "      <th>0</th>\n",
       "    </tr>\n",
       "  </thead>\n",
       "  <tbody>\n",
       "    <tr>\n",
       "      <th>2023-01-01</th>\n",
       "      <td>379</td>\n",
       "    </tr>\n",
       "    <tr>\n",
       "      <th>2023-01-08</th>\n",
       "      <td>888</td>\n",
       "    </tr>\n",
       "    <tr>\n",
       "      <th>2023-01-15</th>\n",
       "      <td>643</td>\n",
       "    </tr>\n",
       "    <tr>\n",
       "      <th>2023-01-22</th>\n",
       "      <td>957</td>\n",
       "    </tr>\n",
       "    <tr>\n",
       "      <th>2023-01-29</th>\n",
       "      <td>377</td>\n",
       "    </tr>\n",
       "    <tr>\n",
       "      <th>2023-02-05</th>\n",
       "      <td>594</td>\n",
       "    </tr>\n",
       "    <tr>\n",
       "      <th>2023-02-12</th>\n",
       "      <td>949</td>\n",
       "    </tr>\n",
       "    <tr>\n",
       "      <th>2023-02-19</th>\n",
       "      <td>320</td>\n",
       "    </tr>\n",
       "    <tr>\n",
       "      <th>2023-02-26</th>\n",
       "      <td>884</td>\n",
       "    </tr>\n",
       "    <tr>\n",
       "      <th>2023-03-05</th>\n",
       "      <td>618</td>\n",
       "    </tr>\n",
       "    <tr>\n",
       "      <th>2023-03-12</th>\n",
       "      <td>627</td>\n",
       "    </tr>\n",
       "    <tr>\n",
       "      <th>2023-03-19</th>\n",
       "      <td>670</td>\n",
       "    </tr>\n",
       "    <tr>\n",
       "      <th>2023-03-26</th>\n",
       "      <td>512</td>\n",
       "    </tr>\n",
       "    <tr>\n",
       "      <th>2023-04-02</th>\n",
       "      <td>690</td>\n",
       "    </tr>\n",
       "    <tr>\n",
       "      <th>2023-04-09</th>\n",
       "      <td>463</td>\n",
       "    </tr>\n",
       "    <tr>\n",
       "      <th>2023-04-16</th>\n",
       "      <td>299</td>\n",
       "    </tr>\n",
       "  </tbody>\n",
       "</table>\n",
       "</div>"
      ],
      "text/plain": [
       "              0\n",
       "2023-01-01  379\n",
       "2023-01-08  888\n",
       "2023-01-15  643\n",
       "2023-01-22  957\n",
       "2023-01-29  377\n",
       "2023-02-05  594\n",
       "2023-02-12  949\n",
       "2023-02-19  320\n",
       "2023-02-26  884\n",
       "2023-03-05  618\n",
       "2023-03-12  627\n",
       "2023-03-19  670\n",
       "2023-03-26  512\n",
       "2023-04-02  690\n",
       "2023-04-09  463\n",
       "2023-04-16  299"
      ]
     },
     "execution_count": 25,
     "metadata": {},
     "output_type": "execute_result"
    }
   ],
   "source": [
    "ts.resample('W').first()    # 매주 일요일"
   ]
  },
  {
   "attachments": {},
   "cell_type": "markdown",
   "metadata": {},
   "source": [
    "- 인구 소멸 위기 지역 Top 10"
   ]
  },
  {
   "cell_type": "code",
   "execution_count": 28,
   "metadata": {},
   "outputs": [
    {
     "data": {
      "text/html": [
       "<div>\n",
       "<style scoped>\n",
       "    .dataframe tbody tr th:only-of-type {\n",
       "        vertical-align: middle;\n",
       "    }\n",
       "\n",
       "    .dataframe tbody tr th {\n",
       "        vertical-align: top;\n",
       "    }\n",
       "\n",
       "    .dataframe thead th {\n",
       "        text-align: right;\n",
       "    }\n",
       "</style>\n",
       "<table border=\"1\" class=\"dataframe\">\n",
       "  <thead>\n",
       "    <tr style=\"text-align: right;\">\n",
       "      <th></th>\n",
       "      <th>연도</th>\n",
       "      <th>월</th>\n",
       "      <th>행정구역구분명</th>\n",
       "      <th>행정구역명</th>\n",
       "      <th>총 인구수</th>\n",
       "      <th>0~9세</th>\n",
       "      <th>10~19세</th>\n",
       "      <th>20~29세</th>\n",
       "      <th>30~39세</th>\n",
       "      <th>40~49세</th>\n",
       "      <th>...</th>\n",
       "      <th>10~19세 (여)</th>\n",
       "      <th>20~29세 (여)</th>\n",
       "      <th>30~39세 (여)</th>\n",
       "      <th>40~49세 (여)</th>\n",
       "      <th>50~59세 (여)</th>\n",
       "      <th>60~69세 (여)</th>\n",
       "      <th>70~79세 (여)</th>\n",
       "      <th>80~89세 (여)</th>\n",
       "      <th>90~99세 (여)</th>\n",
       "      <th>100세 이상 (여)</th>\n",
       "    </tr>\n",
       "  </thead>\n",
       "  <tbody>\n",
       "    <tr>\n",
       "      <th>0</th>\n",
       "      <td>2022</td>\n",
       "      <td>12</td>\n",
       "      <td>도</td>\n",
       "      <td>경기도</td>\n",
       "      <td>13589432</td>\n",
       "      <td>1040954</td>\n",
       "      <td>1327726</td>\n",
       "      <td>1737291</td>\n",
       "      <td>1882300</td>\n",
       "      <td>2284603</td>\n",
       "      <td>...</td>\n",
       "      <td>647283</td>\n",
       "      <td>821150</td>\n",
       "      <td>904073</td>\n",
       "      <td>1121889</td>\n",
       "      <td>1133428</td>\n",
       "      <td>878494</td>\n",
       "      <td>437251</td>\n",
       "      <td>252711</td>\n",
       "      <td>44184</td>\n",
       "      <td>1369</td>\n",
       "    </tr>\n",
       "    <tr>\n",
       "      <th>1</th>\n",
       "      <td>2022</td>\n",
       "      <td>12</td>\n",
       "      <td>시군</td>\n",
       "      <td>경기도 가평군</td>\n",
       "      <td>62197</td>\n",
       "      <td>2930</td>\n",
       "      <td>4463</td>\n",
       "      <td>5929</td>\n",
       "      <td>5397</td>\n",
       "      <td>7589</td>\n",
       "      <td>...</td>\n",
       "      <td>2186</td>\n",
       "      <td>2503</td>\n",
       "      <td>2433</td>\n",
       "      <td>3525</td>\n",
       "      <td>5090</td>\n",
       "      <td>6439</td>\n",
       "      <td>3653</td>\n",
       "      <td>2408</td>\n",
       "      <td>411</td>\n",
       "      <td>13</td>\n",
       "    </tr>\n",
       "    <tr>\n",
       "      <th>2</th>\n",
       "      <td>2022</td>\n",
       "      <td>12</td>\n",
       "      <td>읍면동</td>\n",
       "      <td>경기도 가평군 가평읍</td>\n",
       "      <td>19555</td>\n",
       "      <td>1020</td>\n",
       "      <td>1673</td>\n",
       "      <td>2094</td>\n",
       "      <td>1795</td>\n",
       "      <td>2630</td>\n",
       "      <td>...</td>\n",
       "      <td>778</td>\n",
       "      <td>937</td>\n",
       "      <td>848</td>\n",
       "      <td>1244</td>\n",
       "      <td>1583</td>\n",
       "      <td>1805</td>\n",
       "      <td>1054</td>\n",
       "      <td>739</td>\n",
       "      <td>126</td>\n",
       "      <td>6</td>\n",
       "    </tr>\n",
       "    <tr>\n",
       "      <th>3</th>\n",
       "      <td>2022</td>\n",
       "      <td>12</td>\n",
       "      <td>읍면동</td>\n",
       "      <td>경기도 가평군 북면</td>\n",
       "      <td>3815</td>\n",
       "      <td>108</td>\n",
       "      <td>174</td>\n",
       "      <td>230</td>\n",
       "      <td>223</td>\n",
       "      <td>357</td>\n",
       "      <td>...</td>\n",
       "      <td>93</td>\n",
       "      <td>87</td>\n",
       "      <td>99</td>\n",
       "      <td>154</td>\n",
       "      <td>290</td>\n",
       "      <td>511</td>\n",
       "      <td>294</td>\n",
       "      <td>216</td>\n",
       "      <td>39</td>\n",
       "      <td>1</td>\n",
       "    </tr>\n",
       "    <tr>\n",
       "      <th>4</th>\n",
       "      <td>2022</td>\n",
       "      <td>12</td>\n",
       "      <td>읍면동</td>\n",
       "      <td>경기도 가평군 상면</td>\n",
       "      <td>5669</td>\n",
       "      <td>140</td>\n",
       "      <td>259</td>\n",
       "      <td>482</td>\n",
       "      <td>389</td>\n",
       "      <td>533</td>\n",
       "      <td>...</td>\n",
       "      <td>112</td>\n",
       "      <td>151</td>\n",
       "      <td>166</td>\n",
       "      <td>240</td>\n",
       "      <td>515</td>\n",
       "      <td>737</td>\n",
       "      <td>389</td>\n",
       "      <td>244</td>\n",
       "      <td>39</td>\n",
       "      <td>0</td>\n",
       "    </tr>\n",
       "    <tr>\n",
       "      <th>...</th>\n",
       "      <td>...</td>\n",
       "      <td>...</td>\n",
       "      <td>...</td>\n",
       "      <td>...</td>\n",
       "      <td>...</td>\n",
       "      <td>...</td>\n",
       "      <td>...</td>\n",
       "      <td>...</td>\n",
       "      <td>...</td>\n",
       "      <td>...</td>\n",
       "      <td>...</td>\n",
       "      <td>...</td>\n",
       "      <td>...</td>\n",
       "      <td>...</td>\n",
       "      <td>...</td>\n",
       "      <td>...</td>\n",
       "      <td>...</td>\n",
       "      <td>...</td>\n",
       "      <td>...</td>\n",
       "      <td>...</td>\n",
       "      <td>...</td>\n",
       "    </tr>\n",
       "    <tr>\n",
       "      <th>615</th>\n",
       "      <td>2022</td>\n",
       "      <td>12</td>\n",
       "      <td>읍면동</td>\n",
       "      <td>경기도 화성시 팔탄면</td>\n",
       "      <td>10056</td>\n",
       "      <td>273</td>\n",
       "      <td>438</td>\n",
       "      <td>964</td>\n",
       "      <td>984</td>\n",
       "      <td>1395</td>\n",
       "      <td>...</td>\n",
       "      <td>216</td>\n",
       "      <td>296</td>\n",
       "      <td>311</td>\n",
       "      <td>448</td>\n",
       "      <td>770</td>\n",
       "      <td>897</td>\n",
       "      <td>427</td>\n",
       "      <td>359</td>\n",
       "      <td>67</td>\n",
       "      <td>1</td>\n",
       "    </tr>\n",
       "    <tr>\n",
       "      <th>616</th>\n",
       "      <td>2022</td>\n",
       "      <td>12</td>\n",
       "      <td>읍면동</td>\n",
       "      <td>경기도 화성시 향남읍</td>\n",
       "      <td>87298</td>\n",
       "      <td>9328</td>\n",
       "      <td>10734</td>\n",
       "      <td>10096</td>\n",
       "      <td>14284</td>\n",
       "      <td>18254</td>\n",
       "      <td>...</td>\n",
       "      <td>5230</td>\n",
       "      <td>4462</td>\n",
       "      <td>6288</td>\n",
       "      <td>8064</td>\n",
       "      <td>5293</td>\n",
       "      <td>3629</td>\n",
       "      <td>1735</td>\n",
       "      <td>1026</td>\n",
       "      <td>173</td>\n",
       "      <td>0</td>\n",
       "    </tr>\n",
       "    <tr>\n",
       "      <th>617</th>\n",
       "      <td>2022</td>\n",
       "      <td>12</td>\n",
       "      <td>읍면동</td>\n",
       "      <td>경기도 화성시 화산동</td>\n",
       "      <td>23784</td>\n",
       "      <td>1472</td>\n",
       "      <td>2154</td>\n",
       "      <td>3275</td>\n",
       "      <td>2963</td>\n",
       "      <td>3949</td>\n",
       "      <td>...</td>\n",
       "      <td>1012</td>\n",
       "      <td>1408</td>\n",
       "      <td>1285</td>\n",
       "      <td>1768</td>\n",
       "      <td>2072</td>\n",
       "      <td>1676</td>\n",
       "      <td>788</td>\n",
       "      <td>398</td>\n",
       "      <td>73</td>\n",
       "      <td>0</td>\n",
       "    </tr>\n",
       "    <tr>\n",
       "      <th>618</th>\n",
       "      <td>2022</td>\n",
       "      <td>12</td>\n",
       "      <td>읍면동</td>\n",
       "      <td>경기도 화성시동부출장소</td>\n",
       "      <td>0</td>\n",
       "      <td>0</td>\n",
       "      <td>0</td>\n",
       "      <td>0</td>\n",
       "      <td>0</td>\n",
       "      <td>0</td>\n",
       "      <td>...</td>\n",
       "      <td>0</td>\n",
       "      <td>0</td>\n",
       "      <td>0</td>\n",
       "      <td>0</td>\n",
       "      <td>0</td>\n",
       "      <td>0</td>\n",
       "      <td>0</td>\n",
       "      <td>0</td>\n",
       "      <td>0</td>\n",
       "      <td>0</td>\n",
       "    </tr>\n",
       "    <tr>\n",
       "      <th>619</th>\n",
       "      <td>2022</td>\n",
       "      <td>12</td>\n",
       "      <td>읍면동</td>\n",
       "      <td>경기도 화성시동탄출장소</td>\n",
       "      <td>0</td>\n",
       "      <td>0</td>\n",
       "      <td>0</td>\n",
       "      <td>0</td>\n",
       "      <td>0</td>\n",
       "      <td>0</td>\n",
       "      <td>...</td>\n",
       "      <td>0</td>\n",
       "      <td>0</td>\n",
       "      <td>0</td>\n",
       "      <td>0</td>\n",
       "      <td>0</td>\n",
       "      <td>0</td>\n",
       "      <td>0</td>\n",
       "      <td>0</td>\n",
       "      <td>0</td>\n",
       "      <td>0</td>\n",
       "    </tr>\n",
       "  </tbody>\n",
       "</table>\n",
       "<p>620 rows × 40 columns</p>\n",
       "</div>"
      ],
      "text/plain": [
       "       연도   월 행정구역구분명          행정구역명     총 인구수     0~9세   10~19세   20~29세   \n",
       "0    2022  12       도          경기도    13589432  1040954  1327726  1737291  \\\n",
       "1    2022  12      시군       경기도 가평군      62197     2930     4463     5929   \n",
       "2    2022  12     읍면동    경기도 가평군 가평읍     19555     1020     1673     2094   \n",
       "3    2022  12     읍면동     경기도 가평군 북면      3815      108      174      230   \n",
       "4    2022  12     읍면동     경기도 가평군 상면      5669      140      259      482   \n",
       "..    ...  ..     ...            ...       ...      ...      ...      ...   \n",
       "615  2022  12     읍면동    경기도 화성시 팔탄면     10056      273      438      964   \n",
       "616  2022  12     읍면동    경기도 화성시 향남읍     87298     9328    10734    10096   \n",
       "617  2022  12     읍면동    경기도 화성시 화산동     23784     1472     2154     3275   \n",
       "618  2022  12     읍면동  경기도 화성시동부출장소          0        0        0        0   \n",
       "619  2022  12     읍면동  경기도 화성시동탄출장소          0        0        0        0   \n",
       "\n",
       "      30~39세   40~49세  ...  10~19세 (여)  20~29세 (여)  30~39세 (여)  40~49세 (여)   \n",
       "0    1882300  2284603  ...      647283      821150      904073     1121889  \\\n",
       "1       5397     7589  ...        2186        2503        2433        3525   \n",
       "2       1795     2630  ...         778         937         848        1244   \n",
       "3        223      357  ...          93          87          99         154   \n",
       "4        389      533  ...         112         151         166         240   \n",
       "..       ...      ...  ...         ...         ...         ...         ...   \n",
       "615      984     1395  ...         216         296         311         448   \n",
       "616    14284    18254  ...        5230        4462        6288        8064   \n",
       "617     2963     3949  ...        1012        1408        1285        1768   \n",
       "618        0        0  ...           0           0           0           0   \n",
       "619        0        0  ...           0           0           0           0   \n",
       "\n",
       "     50~59세 (여)  60~69세 (여)  70~79세 (여)  80~89세 (여)  90~99세 (여)  100세 이상 (여)  \n",
       "0       1133428      878494      437251      252711       44184         1369  \n",
       "1          5090        6439        3653        2408         411           13  \n",
       "2          1583        1805        1054         739         126            6  \n",
       "3           290         511         294         216          39            1  \n",
       "4           515         737         389         244          39            0  \n",
       "..          ...         ...         ...         ...         ...          ...  \n",
       "615         770         897         427         359          67            1  \n",
       "616        5293        3629        1735        1026         173            0  \n",
       "617        2072        1676         788         398          73            0  \n",
       "618           0           0           0           0           0            0  \n",
       "619           0           0           0           0           0            0  \n",
       "\n",
       "[620 rows x 40 columns]"
      ]
     },
     "execution_count": 28,
     "metadata": {},
     "output_type": "execute_result"
    }
   ],
   "source": [
    "# 데이터 읽기\n",
    "dis_pop = pd.read_csv('data/주민등록인구집계현황.csv', encoding='euc-kr')\n",
    "dis_pop"
   ]
  },
  {
   "cell_type": "code",
   "execution_count": 32,
   "metadata": {},
   "outputs": [
    {
     "data": {
      "text/plain": [
       "0"
      ]
     },
     "execution_count": 32,
     "metadata": {},
     "output_type": "execute_result"
    }
   ],
   "source": [
    "# 결측치 확인\n",
    "dis_pop.isna().sum().sum()"
   ]
  },
  {
   "cell_type": "code",
   "execution_count": 37,
   "metadata": {},
   "outputs": [
    {
     "data": {
      "text/plain": [
       "(620, 41)"
      ]
     },
     "execution_count": 37,
     "metadata": {},
     "output_type": "execute_result"
    }
   ],
   "source": [
    "dis_pop.shape"
   ]
  },
  {
   "cell_type": "code",
   "execution_count": 50,
   "metadata": {},
   "outputs": [],
   "source": [
    "# 가임기 여성 인구수, 60세 이상 노령인구\n",
    "dis_pop['가임기 여성 인구수'] = dis_pop['10~19세 (여)'] + dis_pop['20~29세 (여)']\n",
    "dis_pop['60세 이상 노령인구'] = dis_pop.loc[:, '60~69세':'100세 이상'].sum(axis=1).head()"
   ]
  },
  {
   "cell_type": "code",
   "execution_count": 55,
   "metadata": {},
   "outputs": [],
   "source": [
    "dis_pop['인구소멸 위기'] = dis_pop['가임기 여성 인구수'] / dis_pop['60세 이상 노령인구']"
   ]
  },
  {
   "cell_type": "code",
   "execution_count": 56,
   "metadata": {},
   "outputs": [
    {
     "data": {
      "text/plain": [
       "0      0.485732\n",
       "1      0.187718\n",
       "2      0.246656\n",
       "3      0.087464\n",
       "4      0.094198\n",
       "         ...   \n",
       "615         NaN\n",
       "616         NaN\n",
       "617         NaN\n",
       "618         NaN\n",
       "619         NaN\n",
       "Name: 인구소멸 위기, Length: 620, dtype: float64"
      ]
     },
     "execution_count": 56,
     "metadata": {},
     "output_type": "execute_result"
    }
   ],
   "source": [
    "dis_pop['인구소멸 위기']"
   ]
  },
  {
   "cell_type": "code",
   "execution_count": null,
   "metadata": {},
   "outputs": [],
   "source": []
  }
 ],
 "metadata": {
  "kernelspec": {
   "display_name": "base",
   "language": "python",
   "name": "python3"
  },
  "language_info": {
   "codemirror_mode": {
    "name": "ipython",
    "version": 3
   },
   "file_extension": ".py",
   "mimetype": "text/x-python",
   "name": "python",
   "nbconvert_exporter": "python",
   "pygments_lexer": "ipython3",
   "version": "3.10.9"
  },
  "orig_nbformat": 4
 },
 "nbformat": 4,
 "nbformat_minor": 2
}
