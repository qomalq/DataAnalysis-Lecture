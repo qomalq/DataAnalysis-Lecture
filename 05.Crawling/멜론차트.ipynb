{
 "cells": [
  {
   "attachments": {},
   "cell_type": "markdown",
   "metadata": {},
   "source": [
    "###  멜론차트 Top100"
   ]
  },
  {
   "cell_type": "code",
   "execution_count": 200,
   "metadata": {},
   "outputs": [],
   "source": [
    "import requests\n",
    "from urllib.parse import quote\n",
    "import pandas as pd\n",
    "from bs4 import BeautifulSoup"
   ]
  },
  {
   "attachments": {},
   "cell_type": "markdown",
   "metadata": {},
   "source": [
    "##### 1. 데이터 가져오기"
   ]
  },
  {
   "cell_type": "code",
   "execution_count": 201,
   "metadata": {},
   "outputs": [],
   "source": [
    "url = 'https://www.melon.com/chart/'\n",
    "header = {'User-Agent':'Mozilla/5.0 (Windows NT 10.0; Win64; x64) AppleWebKit/537.36 (KHTML, like Gecko) Chrome/112.0.0.0 Safari/537.36'}\n",
    "result = requests.get(url, headers=header)\n",
    "soup = BeautifulSoup(result.text, 'html.parser')"
   ]
  },
  {
   "attachments": {},
   "cell_type": "markdown",
   "metadata": {},
   "source": [
    "1. 순위, 제목, 아티스트, 앨범, 좋아요 필드"
   ]
  },
  {
   "cell_type": "code",
   "execution_count": 202,
   "metadata": {},
   "outputs": [
    {
     "data": {
      "text/plain": [
       "50"
      ]
     },
     "execution_count": 202,
     "metadata": {},
     "output_type": "execute_result"
    }
   ],
   "source": [
    "trs = soup.select('#lst50')\n",
    "len(trs)"
   ]
  },
  {
   "cell_type": "code",
   "execution_count": 203,
   "metadata": {},
   "outputs": [],
   "source": [
    "tr = trs[0]"
   ]
  },
  {
   "cell_type": "code",
   "execution_count": 204,
   "metadata": {},
   "outputs": [],
   "source": [
    "tr = trs[0]"
   ]
  },
  {
   "cell_type": "code",
   "execution_count": 205,
   "metadata": {},
   "outputs": [
    {
     "data": {
      "text/plain": [
       "['1위']"
      ]
     },
     "execution_count": 205,
     "metadata": {},
     "output_type": "execute_result"
    }
   ],
   "source": [
    "# 순위\n",
    "rank = tr.select_one('.wrap.t_center').get_text().split('\\n')\n",
    "rank"
   ]
  },
  {
   "cell_type": "code",
   "execution_count": 206,
   "metadata": {},
   "outputs": [
    {
     "data": {
      "text/plain": [
       "['', 'I AM', '']"
      ]
     },
     "execution_count": 206,
     "metadata": {},
     "output_type": "execute_result"
    }
   ],
   "source": [
    "# 제목\n",
    "title = tr.select_one('.ellipsis.rank01>span').get_text().split('\\n')\n",
    "title"
   ]
  },
  {
   "cell_type": "code",
   "execution_count": 207,
   "metadata": {},
   "outputs": [
    {
     "data": {
      "text/plain": [
       "'IVE (아이브)'"
      ]
     },
     "execution_count": 207,
     "metadata": {},
     "output_type": "execute_result"
    }
   ],
   "source": [
    "# 아티스트\n",
    "artist = tr.select_one('.ellipsis.rank02>span').get_text().strip()\n",
    "artist"
   ]
  },
  {
   "cell_type": "code",
   "execution_count": 208,
   "metadata": {},
   "outputs": [
    {
     "data": {
      "text/plain": [
       "['', \"I've IVE\", '']"
      ]
     },
     "execution_count": 208,
     "metadata": {},
     "output_type": "execute_result"
    }
   ],
   "source": [
    "# 앨범\n",
    "song = tr.select_one('.ellipsis.rank03').get_text().split('\\n')\n",
    "song"
   ]
  },
  {
   "cell_type": "code",
   "execution_count": 209,
   "metadata": {},
   "outputs": [
    {
     "data": {
      "text/plain": [
       "'https://cdnimg.melon.co.kr/cm2/album/images/112/11/297/11211297_20230410151046_500.jpg/melon/resize/120/quality/80/optimize'"
      ]
     },
     "execution_count": 209,
     "metadata": {},
     "output_type": "execute_result"
    }
   ],
   "source": [
    "# img\n",
    "img= tr.select_one('td > div > a> img')['src']\n",
    "img"
   ]
  },
  {
   "attachments": {},
   "cell_type": "markdown",
   "metadata": {},
   "source": [
    "#### 4. 한페이지내에 있는 정보"
   ]
  },
  {
   "cell_type": "code",
   "execution_count": 210,
   "metadata": {},
   "outputs": [],
   "source": [
    "line = []\n",
    "for tr in trs:\n",
    "    rank = tr.select_one('.wrap.t_center').get_text().split('\\n')\n",
    "    img= 'https:' + tr.select_one('td > div > a> img')['src']\n",
    "    title = tr.select_one('.ellipsis.rank01>span>a').get_text().split('\\n')\n",
    "    artist = tr.select_one('.ellipsis.rank02>span>a').get_text()\n",
    "    song = tr.select_one('.ellipsis.rank03>a').get_text().split('\\n')\n",
    "    line.append({'순위':rank,'albumImage':img, '곡명':title,'가수':artist,'앨범':song})"
   ]
  },
  {
   "cell_type": "code",
   "execution_count": 211,
   "metadata": {},
   "outputs": [
    {
     "data": {
      "text/html": [
       "<div>\n",
       "<style scoped>\n",
       "    .dataframe tbody tr th:only-of-type {\n",
       "        vertical-align: middle;\n",
       "    }\n",
       "\n",
       "    .dataframe tbody tr th {\n",
       "        vertical-align: top;\n",
       "    }\n",
       "\n",
       "    .dataframe thead th {\n",
       "        text-align: right;\n",
       "    }\n",
       "</style>\n",
       "<table border=\"1\" class=\"dataframe\">\n",
       "  <thead>\n",
       "    <tr style=\"text-align: right;\">\n",
       "      <th></th>\n",
       "      <th>순위</th>\n",
       "      <th>albumImage</th>\n",
       "      <th>곡명</th>\n",
       "      <th>가수</th>\n",
       "      <th>앨범</th>\n",
       "    </tr>\n",
       "  </thead>\n",
       "  <tbody>\n",
       "    <tr>\n",
       "      <th>0</th>\n",
       "      <td>[1위]</td>\n",
       "      <td>https:https://cdnimg.melon.co.kr/cm2/album/ima...</td>\n",
       "      <td>[I AM]</td>\n",
       "      <td>IVE (아이브)</td>\n",
       "      <td>[I've IVE]</td>\n",
       "    </tr>\n",
       "    <tr>\n",
       "      <th>1</th>\n",
       "      <td>[2위]</td>\n",
       "      <td>https:https://cdnimg.melon.co.kr/cm2/album/ima...</td>\n",
       "      <td>[UNFORGIVEN (feat. Nile Rodgers)]</td>\n",
       "      <td>LE SSERAFIM (르세라핌)</td>\n",
       "      <td>[UNFORGIVEN]</td>\n",
       "    </tr>\n",
       "    <tr>\n",
       "      <th>2</th>\n",
       "      <td>[3위]</td>\n",
       "      <td>https:https://cdnimg.melon.co.kr/cm2/album/ima...</td>\n",
       "      <td>[Kitsch]</td>\n",
       "      <td>IVE (아이브)</td>\n",
       "      <td>[I've IVE]</td>\n",
       "    </tr>\n",
       "    <tr>\n",
       "      <th>3</th>\n",
       "      <td>[4위]</td>\n",
       "      <td>https:https://cdnimg.melon.co.kr/cm2/album/ima...</td>\n",
       "      <td>[손오공]</td>\n",
       "      <td>세븐틴 (SEVENTEEN)</td>\n",
       "      <td>[SEVENTEEN 10th Mini Album ‘FML']</td>\n",
       "    </tr>\n",
       "    <tr>\n",
       "      <th>4</th>\n",
       "      <td>[5위]</td>\n",
       "      <td>https:https://cdnimg.melon.co.kr/cm2/album/ima...</td>\n",
       "      <td>[Spicy]</td>\n",
       "      <td>aespa</td>\n",
       "      <td>[MY WORLD - The 3rd Mini Album]</td>\n",
       "    </tr>\n",
       "  </tbody>\n",
       "</table>\n",
       "</div>"
      ],
      "text/plain": [
       "     순위                                         albumImage   \n",
       "0  [1위]  https:https://cdnimg.melon.co.kr/cm2/album/ima...  \\\n",
       "1  [2위]  https:https://cdnimg.melon.co.kr/cm2/album/ima...   \n",
       "2  [3위]  https:https://cdnimg.melon.co.kr/cm2/album/ima...   \n",
       "3  [4위]  https:https://cdnimg.melon.co.kr/cm2/album/ima...   \n",
       "4  [5위]  https:https://cdnimg.melon.co.kr/cm2/album/ima...   \n",
       "\n",
       "                                  곡명                  가수   \n",
       "0                             [I AM]           IVE (아이브)  \\\n",
       "1  [UNFORGIVEN (feat. Nile Rodgers)]  LE SSERAFIM (르세라핌)   \n",
       "2                           [Kitsch]           IVE (아이브)   \n",
       "3                              [손오공]     세븐틴 (SEVENTEEN)   \n",
       "4                            [Spicy]               aespa   \n",
       "\n",
       "                                  앨범  \n",
       "0                         [I've IVE]  \n",
       "1                       [UNFORGIVEN]  \n",
       "2                         [I've IVE]  \n",
       "3  [SEVENTEEN 10th Mini Album ‘FML']  \n",
       "4    [MY WORLD - The 3rd Mini Album]  "
      ]
     },
     "execution_count": 211,
     "metadata": {},
     "output_type": "execute_result"
    }
   ],
   "source": [
    "df = pd.DataFrame(line)\n",
    "df.head()"
   ]
  },
  {
   "cell_type": "code",
   "execution_count": 212,
   "metadata": {},
   "outputs": [],
   "source": [
    "from datetime import datetime\n",
    "now = datetime.now()"
   ]
  },
  {
   "cell_type": "code",
   "execution_count": 213,
   "metadata": {},
   "outputs": [
    {
     "data": {
      "text/plain": [
       "('230512', '15')"
      ]
     },
     "execution_count": 213,
     "metadata": {},
     "output_type": "execute_result"
    }
   ],
   "source": [
    "ymd = now.strftime('%y%m%d')    \n",
    "hh = now.strftime('%H')         \n",
    "ymd, hh"
   ]
  },
  {
   "cell_type": "code",
   "execution_count": 214,
   "metadata": {},
   "outputs": [],
   "source": [
    "df.to_csv(f'data/멜론_{ymd}{hh}.csv',index=False)"
   ]
  },
  {
   "cell_type": "code",
   "execution_count": null,
   "metadata": {},
   "outputs": [],
   "source": []
  }
 ],
 "metadata": {
  "kernelspec": {
   "display_name": "base",
   "language": "python",
   "name": "python3"
  },
  "language_info": {
   "codemirror_mode": {
    "name": "ipython",
    "version": 3
   },
   "file_extension": ".py",
   "mimetype": "text/x-python",
   "name": "python",
   "nbconvert_exporter": "python",
   "pygments_lexer": "ipython3",
   "version": "3.10.9"
  },
  "orig_nbformat": 4
 },
 "nbformat": 4,
 "nbformat_minor": 2
}
