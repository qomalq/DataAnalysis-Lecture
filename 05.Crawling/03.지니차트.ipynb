{
 "cells": [
  {
   "attachments": {},
   "cell_type": "markdown",
   "metadata": {},
   "source": [
    "### 지니차트 Top200"
   ]
  },
  {
   "cell_type": "code",
   "execution_count": 1,
   "metadata": {},
   "outputs": [],
   "source": [
    "import requests\n",
    "from urllib.parse import quote\n",
    "import pandas as pd\n",
    "from bs4 import BeautifulSoup"
   ]
  },
  {
   "attachments": {},
   "cell_type": "markdown",
   "metadata": {},
   "source": [
    "##### 1. 데이터 가져오기"
   ]
  },
  {
   "cell_type": "code",
   "execution_count": 2,
   "metadata": {},
   "outputs": [
    {
     "data": {
      "text/plain": [
       "'<br>\\r\\n<br>\\r\\n<center>\\r\\n<img src=\"http://www.geniemusic.co.kr/images/common/logo_r1.png\"><br>\\r\\n<h2> <meta http-equiv=\"Content-Type\" content=\"text/html;charset=UTF-8\"> ì\\xa0\\x91ì\\x86\\x8dì\\x9a\\x94ì²\\xadì\\x9d´ ë³´ì\\x95\\x88ì\\xa0\\x95ì±\\x85ì\\x97\\x90 ì\\x9d\\x98í\\x95´ ì°¨ë\\x8b¨ë\\x90\\x98ì\\x97\\x88ì\\x8aµë\\x8b\\x88ë\\x8b¤. ë\\x8b¹ì\\x82¬ ê³\\xa0ê°\\x9dì\\x84¼í\\x84°ë¡\\x9c ë¬¸ì\\x9d\\x98í\\x95´ì£¼ì\\x8b\\xadì\\x8b\\x9cì\\x98¤.<br><br>\\r\\nThe security policy of the connection request is blocked. Contact your customer service representative.<br><br>\\r\\nì§\\x80ë\\x8b\\x88ë®¤ì§\\x81 ê³\\xa0ê°\\x9dì\\x84¼í\\x84° 1577-5337<br><br>\\r\\n</h2>\\r\\n</center>\\r\\n<br>'"
      ]
     },
     "execution_count": 2,
     "metadata": {},
     "output_type": "execute_result"
    }
   ],
   "source": [
    "url = 'https://www.genie.co.kr/chart/top200'\n",
    "result = requests.get(url)\n",
    "result.text"
   ]
  },
  {
   "cell_type": "code",
   "execution_count": 3,
   "metadata": {},
   "outputs": [],
   "source": [
    "header = {'User-Agent':'Mozilla/5.0 (Windows NT 10.0; Win64; x64) AppleWebKit/537.36 (KHTML, like Gecko) Chrome/112.0.0.0 Safari/537.36'}\n",
    "result = requests.get(url, headers=header)\n",
    "soup = BeautifulSoup(result.text, 'html.parser')"
   ]
  },
  {
   "attachments": {},
   "cell_type": "markdown",
   "metadata": {},
   "source": [
    "#### 2. 원하는 데이터 찾기"
   ]
  },
  {
   "cell_type": "code",
   "execution_count": 4,
   "metadata": {},
   "outputs": [
    {
     "data": {
      "text/plain": [
       "50"
      ]
     },
     "execution_count": 4,
     "metadata": {},
     "output_type": "execute_result"
    }
   ],
   "source": [
    "trs = soup.select('tr.list')\n",
    "len(trs)"
   ]
  },
  {
   "cell_type": "code",
   "execution_count": 5,
   "metadata": {},
   "outputs": [],
   "source": [
    "# 개발자 도구에서 찾아주는 Selector\n",
    "trs = soup.select('#body-content > div.newest-list > div > table > tbody > tr')"
   ]
  },
  {
   "cell_type": "code",
   "execution_count": 6,
   "metadata": {},
   "outputs": [
    {
     "data": {
      "text/plain": [
       "50"
      ]
     },
     "execution_count": 6,
     "metadata": {},
     "output_type": "execute_result"
    }
   ],
   "source": [
    "len(trs)"
   ]
  },
  {
   "attachments": {},
   "cell_type": "markdown",
   "metadata": {},
   "source": [
    "#### 3. 하나의 정보를 선택해서 원하는 정보 추출"
   ]
  },
  {
   "cell_type": "code",
   "execution_count": 7,
   "metadata": {},
   "outputs": [],
   "source": [
    "tr = trs[0]"
   ]
  },
  {
   "cell_type": "code",
   "execution_count": 8,
   "metadata": {},
   "outputs": [
    {
     "data": {
      "text/plain": [
       "'1\\n                                        \\n                                    \\n유지\\n\\n'"
      ]
     },
     "execution_count": 8,
     "metadata": {},
     "output_type": "execute_result"
    }
   ],
   "source": [
    "tr.select_one('.number').get_text()"
   ]
  },
  {
   "cell_type": "code",
   "execution_count": 9,
   "metadata": {},
   "outputs": [],
   "source": [
    "rank = tr.select_one('.number').get_text().split('\\n')[0].strip"
   ]
  },
  {
   "cell_type": "code",
   "execution_count": 10,
   "metadata": {},
   "outputs": [
    {
     "data": {
      "text/plain": [
       "'//image.genie.co.kr/Y/IMAGE/IMG_ALBUM/083/665/559/83665559_1681116738103_1_140x140.JPG/dims/resize/Q_80,0'"
      ]
     },
     "execution_count": 10,
     "metadata": {},
     "output_type": "execute_result"
    }
   ],
   "source": [
    "# img url\n",
    "img = tr.select_one('.cover > img')['src']\n",
    "img"
   ]
  },
  {
   "cell_type": "code",
   "execution_count": 11,
   "metadata": {},
   "outputs": [
    {
     "data": {
      "text/plain": [
       "'I AM'"
      ]
     },
     "execution_count": 11,
     "metadata": {},
     "output_type": "execute_result"
    }
   ],
   "source": [
    "#title\n",
    "tr.select_one('.title.ellipsis').get_text().strip()"
   ]
  },
  {
   "cell_type": "code",
   "execution_count": 12,
   "metadata": {},
   "outputs": [
    {
     "data": {
      "text/plain": [
       "'I AM'"
      ]
     },
     "execution_count": 12,
     "metadata": {},
     "output_type": "execute_result"
    }
   ],
   "source": [
    "# 19금 노래 제목\n",
    "tr.select_one('.title.ellipsis').get_text().split('\\n')[-1].strip()"
   ]
  },
  {
   "cell_type": "code",
   "execution_count": 13,
   "metadata": {},
   "outputs": [],
   "source": [
    "# 위의 두 코드를 합치면\n",
    "# 방법1\n",
    "tr.select_one('.title.ellipsis').get_text().split('\\n')[-1].strip()\n",
    "# 방법2\n",
    "try:\n",
    "    title = tr.select_one('.title.ellipsis').get_text().strip()\n",
    "except:\n",
    "    title = tr.select_one('.title.ellipsis').get_text().split('\\n')[-1].strip()"
   ]
  },
  {
   "cell_type": "code",
   "execution_count": 14,
   "metadata": {},
   "outputs": [
    {
     "data": {
      "text/plain": [
       "'IVE (아이브)'"
      ]
     },
     "execution_count": 14,
     "metadata": {},
     "output_type": "execute_result"
    }
   ],
   "source": [
    "# artists\n",
    "artist = tr.select_one('.artist.ellipsis').string.strip()\n",
    "artist"
   ]
  },
  {
   "cell_type": "code",
   "execution_count": 15,
   "metadata": {},
   "outputs": [
    {
     "data": {
      "text/plain": [
       "\"I've IVE\""
      ]
     },
     "execution_count": 15,
     "metadata": {},
     "output_type": "execute_result"
    }
   ],
   "source": [
    "# album\n",
    "album = tr.select_one('.albumtitle.ellipsis').text.strip()\n",
    "album"
   ]
  },
  {
   "attachments": {},
   "cell_type": "markdown",
   "metadata": {},
   "source": [
    "#### 4. 한페이지내에 있는 정보"
   ]
  },
  {
   "cell_type": "code",
   "execution_count": 16,
   "metadata": {},
   "outputs": [],
   "source": [
    "# 방법1. 딕셔너리의 리스트로 가져오기\n",
    "line = []\n",
    "for tr in trs:\n",
    "    rank = tr.select_one('.number').get_text().split('\\n')[0].strip()\n",
    "    img = 'https:' + tr.select_one('.cover > img')['src']\n",
    "    title = tr.select_one('.title.ellipsis').get_text().split('\\n')[-1].strip()\n",
    "    artist = tr.select_one('.artist.ellipsis').string.strip()\n",
    "    album = tr.select_one('.albumtitle.ellipsis').text.strip()\n",
    "    line.append({'rank':rank, 'img':img, 'title':title, 'artist':artist, 'album':album})"
   ]
  },
  {
   "cell_type": "code",
   "execution_count": 17,
   "metadata": {},
   "outputs": [],
   "source": [
    "# 방법2. 개별리스트로 가져오기\n",
    "rank_list, img_list, title_list, artist_list, album_list = [],[],[],[],[]\n",
    "for tr in trs:\n",
    "    rank_list.append(tr.select_one('.number').get_text().split('\\n')[0].strip)\n",
    "    img_list.append(tr.select_one('.cover > img')['src'])\n",
    "    title_list.append(tr.select_one('.title.ellipsis').get_text().strip())\n",
    "    artist_list.append(tr.select_one('.artist.ellipsis').string.strip())\n",
    "    album_list.append(tr.select_one('.albumtitle.ellipsis').text.strip())"
   ]
  },
  {
   "cell_type": "code",
   "execution_count": 18,
   "metadata": {},
   "outputs": [
    {
     "data": {
      "text/html": [
       "<div>\n",
       "<style scoped>\n",
       "    .dataframe tbody tr th:only-of-type {\n",
       "        vertical-align: middle;\n",
       "    }\n",
       "\n",
       "    .dataframe tbody tr th {\n",
       "        vertical-align: top;\n",
       "    }\n",
       "\n",
       "    .dataframe thead th {\n",
       "        text-align: right;\n",
       "    }\n",
       "</style>\n",
       "<table border=\"1\" class=\"dataframe\">\n",
       "  <thead>\n",
       "    <tr style=\"text-align: right;\">\n",
       "      <th></th>\n",
       "      <th>rank</th>\n",
       "      <th>img</th>\n",
       "      <th>title</th>\n",
       "      <th>artist</th>\n",
       "      <th>album</th>\n",
       "    </tr>\n",
       "  </thead>\n",
       "  <tbody>\n",
       "    <tr>\n",
       "      <th>0</th>\n",
       "      <td>1</td>\n",
       "      <td>https://image.genie.co.kr/Y/IMAGE/IMG_ALBUM/08...</td>\n",
       "      <td>I AM</td>\n",
       "      <td>IVE (아이브)</td>\n",
       "      <td>I've IVE</td>\n",
       "    </tr>\n",
       "    <tr>\n",
       "      <th>1</th>\n",
       "      <td>2</td>\n",
       "      <td>https://image.genie.co.kr/Y/IMAGE/IMG_ALBUM/08...</td>\n",
       "      <td>Kitsch</td>\n",
       "      <td>IVE (아이브)</td>\n",
       "      <td>I've IVE</td>\n",
       "    </tr>\n",
       "    <tr>\n",
       "      <th>2</th>\n",
       "      <td>3</td>\n",
       "      <td>https://image.genie.co.kr/Y/IMAGE/IMG_ALBUM/08...</td>\n",
       "      <td>손오공</td>\n",
       "      <td>세븐틴 (SEVENTEEN)</td>\n",
       "      <td>SEVENTEEN 10th Mini Album 'FML'</td>\n",
       "    </tr>\n",
       "    <tr>\n",
       "      <th>3</th>\n",
       "      <td>4</td>\n",
       "      <td>https://image.genie.co.kr/Y/IMAGE/IMG_ALBUM/08...</td>\n",
       "      <td>꽃</td>\n",
       "      <td>지수 (JISOO)</td>\n",
       "      <td>ME</td>\n",
       "    </tr>\n",
       "    <tr>\n",
       "      <th>4</th>\n",
       "      <td>5</td>\n",
       "      <td>https://image.genie.co.kr/Y/IMAGE/IMG_ALBUM/08...</td>\n",
       "      <td>F*ck My Life</td>\n",
       "      <td>세븐틴 (SEVENTEEN)</td>\n",
       "      <td>SEVENTEEN 10th Mini Album 'FML'</td>\n",
       "    </tr>\n",
       "  </tbody>\n",
       "</table>\n",
       "</div>"
      ],
      "text/plain": [
       "  rank                                                img         title   \n",
       "0    1  https://image.genie.co.kr/Y/IMAGE/IMG_ALBUM/08...          I AM  \\\n",
       "1    2  https://image.genie.co.kr/Y/IMAGE/IMG_ALBUM/08...        Kitsch   \n",
       "2    3  https://image.genie.co.kr/Y/IMAGE/IMG_ALBUM/08...           손오공   \n",
       "3    4  https://image.genie.co.kr/Y/IMAGE/IMG_ALBUM/08...             꽃   \n",
       "4    5  https://image.genie.co.kr/Y/IMAGE/IMG_ALBUM/08...  F*ck My Life   \n",
       "\n",
       "            artist                            album  \n",
       "0        IVE (아이브)                         I've IVE  \n",
       "1        IVE (아이브)                         I've IVE  \n",
       "2  세븐틴 (SEVENTEEN)  SEVENTEEN 10th Mini Album 'FML'  \n",
       "3       지수 (JISOO)                               ME  \n",
       "4  세븐틴 (SEVENTEEN)  SEVENTEEN 10th Mini Album 'FML'  "
      ]
     },
     "execution_count": 18,
     "metadata": {},
     "output_type": "execute_result"
    }
   ],
   "source": [
    "df1 = pd.DataFrame(line)\n",
    "df1.head()"
   ]
  },
  {
   "cell_type": "code",
   "execution_count": 19,
   "metadata": {},
   "outputs": [],
   "source": [
    "df2 = pd.DataFrame({\n",
    "    'rank':rank_list,'img':img_list,'title':title_list,'artist':artist_list,'album':album_list\n",
    "})"
   ]
  },
  {
   "cell_type": "code",
   "execution_count": 20,
   "metadata": {},
   "outputs": [
    {
     "data": {
      "text/html": [
       "<div>\n",
       "<style scoped>\n",
       "    .dataframe tbody tr th:only-of-type {\n",
       "        vertical-align: middle;\n",
       "    }\n",
       "\n",
       "    .dataframe tbody tr th {\n",
       "        vertical-align: top;\n",
       "    }\n",
       "\n",
       "    .dataframe thead th {\n",
       "        text-align: right;\n",
       "    }\n",
       "</style>\n",
       "<table border=\"1\" class=\"dataframe\">\n",
       "  <thead>\n",
       "    <tr style=\"text-align: right;\">\n",
       "      <th></th>\n",
       "      <th>rank</th>\n",
       "      <th>img</th>\n",
       "      <th>title</th>\n",
       "      <th>artist</th>\n",
       "      <th>album</th>\n",
       "    </tr>\n",
       "  </thead>\n",
       "  <tbody>\n",
       "    <tr>\n",
       "      <th>0</th>\n",
       "      <td>&lt;built-in method strip of str object at 0x0000...</td>\n",
       "      <td>//image.genie.co.kr/Y/IMAGE/IMG_ALBUM/083/665/...</td>\n",
       "      <td>I AM</td>\n",
       "      <td>IVE (아이브)</td>\n",
       "      <td>I've IVE</td>\n",
       "    </tr>\n",
       "    <tr>\n",
       "      <th>1</th>\n",
       "      <td>&lt;built-in method strip of str object at 0x0000...</td>\n",
       "      <td>//image.genie.co.kr/Y/IMAGE/IMG_ALBUM/083/665/...</td>\n",
       "      <td>Kitsch</td>\n",
       "      <td>IVE (아이브)</td>\n",
       "      <td>I've IVE</td>\n",
       "    </tr>\n",
       "    <tr>\n",
       "      <th>2</th>\n",
       "      <td>&lt;built-in method strip of str object at 0x0000...</td>\n",
       "      <td>//image.genie.co.kr/Y/IMAGE/IMG_ALBUM/083/762/...</td>\n",
       "      <td>손오공</td>\n",
       "      <td>세븐틴 (SEVENTEEN)</td>\n",
       "      <td>SEVENTEEN 10th Mini Album 'FML'</td>\n",
       "    </tr>\n",
       "    <tr>\n",
       "      <th>3</th>\n",
       "      <td>&lt;built-in method strip of str object at 0x0000...</td>\n",
       "      <td>//image.genie.co.kr/Y/IMAGE/IMG_ALBUM/083/687/...</td>\n",
       "      <td>꽃</td>\n",
       "      <td>지수 (JISOO)</td>\n",
       "      <td>ME</td>\n",
       "    </tr>\n",
       "    <tr>\n",
       "      <th>4</th>\n",
       "      <td>&lt;built-in method strip of str object at 0x0000...</td>\n",
       "      <td>//image.genie.co.kr/Y/IMAGE/IMG_ALBUM/083/762/...</td>\n",
       "      <td>F*ck My Life</td>\n",
       "      <td>세븐틴 (SEVENTEEN)</td>\n",
       "      <td>SEVENTEEN 10th Mini Album 'FML'</td>\n",
       "    </tr>\n",
       "  </tbody>\n",
       "</table>\n",
       "</div>"
      ],
      "text/plain": [
       "                                                rank   \n",
       "0  <built-in method strip of str object at 0x0000...  \\\n",
       "1  <built-in method strip of str object at 0x0000...   \n",
       "2  <built-in method strip of str object at 0x0000...   \n",
       "3  <built-in method strip of str object at 0x0000...   \n",
       "4  <built-in method strip of str object at 0x0000...   \n",
       "\n",
       "                                                 img         title   \n",
       "0  //image.genie.co.kr/Y/IMAGE/IMG_ALBUM/083/665/...          I AM  \\\n",
       "1  //image.genie.co.kr/Y/IMAGE/IMG_ALBUM/083/665/...        Kitsch   \n",
       "2  //image.genie.co.kr/Y/IMAGE/IMG_ALBUM/083/762/...           손오공   \n",
       "3  //image.genie.co.kr/Y/IMAGE/IMG_ALBUM/083/687/...             꽃   \n",
       "4  //image.genie.co.kr/Y/IMAGE/IMG_ALBUM/083/762/...  F*ck My Life   \n",
       "\n",
       "            artist                            album  \n",
       "0        IVE (아이브)                         I've IVE  \n",
       "1        IVE (아이브)                         I've IVE  \n",
       "2  세븐틴 (SEVENTEEN)  SEVENTEEN 10th Mini Album 'FML'  \n",
       "3       지수 (JISOO)                               ME  \n",
       "4  세븐틴 (SEVENTEEN)  SEVENTEEN 10th Mini Album 'FML'  "
      ]
     },
     "execution_count": 20,
     "metadata": {},
     "output_type": "execute_result"
    }
   ],
   "source": [
    "df2.head()"
   ]
  },
  {
   "attachments": {},
   "cell_type": "markdown",
   "metadata": {},
   "source": [
    "#### 5. 에러 처리"
   ]
  },
  {
   "attachments": {},
   "cell_type": "markdown",
   "metadata": {},
   "source": [
    "#### 6. 모든 페이지에 대해서 처리하기"
   ]
  },
  {
   "cell_type": "code",
   "execution_count": 21,
   "metadata": {},
   "outputs": [],
   "source": [
    "from datetime import datetime\n",
    "now = datetime.now()"
   ]
  },
  {
   "cell_type": "code",
   "execution_count": 22,
   "metadata": {},
   "outputs": [
    {
     "data": {
      "text/plain": [
       "('230425', '08')"
      ]
     },
     "execution_count": 22,
     "metadata": {},
     "output_type": "execute_result"
    }
   ],
   "source": [
    "ymd = now.strftime('%y%m%d')    # ymd = f'{now.year}{now,mondth:02d}{now.day02d}'\n",
    "hh = now.strftime('%H')         # hh f'{now.hour:02d}'\n",
    "ymd, hh"
   ]
  },
  {
   "cell_type": "code",
   "execution_count": 26,
   "metadata": {},
   "outputs": [
    {
     "name": "stderr",
     "output_type": "stream",
     "text": [
      "100%|██████████| 4/4 [00:01<00:00,  2.48it/s]\n"
     ]
    }
   ],
   "source": [
    "from tqdm import tqdm\n",
    "lines = []\n",
    "base_url = 'https://www.genie.co.kr/chart/top200?ditc=D&rtm=Y'\n",
    "for page in tqdm(range(1,5)):\n",
    "    url = f'{base_url}&ymd={ymd}&hh={hh}%pg={page}'\n",
    "    result = requests.get(url, headers=header)\n",
    "    soup = BeautifulSoup(result.text, 'html.parser')\n",
    "    trs = soup.select('tr.list')\n",
    "    for tr in trs:\n",
    "        rank = tr.select_one('.number').get_text().split('\\n')[0].strip()\n",
    "        img = 'https:' + tr.select_one('.cover > img')['src']\n",
    "        title = tr.select_one('.title.ellipsis').get_text().split('\\n')[-1].strip()\n",
    "        artist = tr.select_one('.artist.ellipsis').string.strip()\n",
    "        album = tr.select_one('.albumtitle.ellipsis').text.strip()\n",
    "        lines.append({'rank':rank, 'img':img, 'title':title, 'artist':artist, 'album':album})"
   ]
  },
  {
   "attachments": {},
   "cell_type": "markdown",
   "metadata": {},
   "source": [
    "#### 7. 데이터프레임 만들기"
   ]
  },
  {
   "cell_type": "code",
   "execution_count": 27,
   "metadata": {},
   "outputs": [
    {
     "data": {
      "text/html": [
       "<div>\n",
       "<style scoped>\n",
       "    .dataframe tbody tr th:only-of-type {\n",
       "        vertical-align: middle;\n",
       "    }\n",
       "\n",
       "    .dataframe tbody tr th {\n",
       "        vertical-align: top;\n",
       "    }\n",
       "\n",
       "    .dataframe thead th {\n",
       "        text-align: right;\n",
       "    }\n",
       "</style>\n",
       "<table border=\"1\" class=\"dataframe\">\n",
       "  <thead>\n",
       "    <tr style=\"text-align: right;\">\n",
       "      <th></th>\n",
       "      <th>rank</th>\n",
       "      <th>img</th>\n",
       "      <th>title</th>\n",
       "      <th>artist</th>\n",
       "      <th>album</th>\n",
       "    </tr>\n",
       "  </thead>\n",
       "  <tbody>\n",
       "    <tr>\n",
       "      <th>0</th>\n",
       "      <td>1</td>\n",
       "      <td>https://image.genie.co.kr/Y/IMAGE/IMG_ALBUM/08...</td>\n",
       "      <td>I AM</td>\n",
       "      <td>IVE (아이브)</td>\n",
       "      <td>I've IVE</td>\n",
       "    </tr>\n",
       "    <tr>\n",
       "      <th>1</th>\n",
       "      <td>2</td>\n",
       "      <td>https://image.genie.co.kr/Y/IMAGE/IMG_ALBUM/08...</td>\n",
       "      <td>Kitsch</td>\n",
       "      <td>IVE (아이브)</td>\n",
       "      <td>I've IVE</td>\n",
       "    </tr>\n",
       "    <tr>\n",
       "      <th>2</th>\n",
       "      <td>3</td>\n",
       "      <td>https://image.genie.co.kr/Y/IMAGE/IMG_ALBUM/08...</td>\n",
       "      <td>손오공</td>\n",
       "      <td>세븐틴 (SEVENTEEN)</td>\n",
       "      <td>SEVENTEEN 10th Mini Album 'FML'</td>\n",
       "    </tr>\n",
       "    <tr>\n",
       "      <th>3</th>\n",
       "      <td>4</td>\n",
       "      <td>https://image.genie.co.kr/Y/IMAGE/IMG_ALBUM/08...</td>\n",
       "      <td>꽃</td>\n",
       "      <td>지수 (JISOO)</td>\n",
       "      <td>ME</td>\n",
       "    </tr>\n",
       "    <tr>\n",
       "      <th>4</th>\n",
       "      <td>5</td>\n",
       "      <td>https://image.genie.co.kr/Y/IMAGE/IMG_ALBUM/08...</td>\n",
       "      <td>F*ck My Life</td>\n",
       "      <td>세븐틴 (SEVENTEEN)</td>\n",
       "      <td>SEVENTEEN 10th Mini Album 'FML'</td>\n",
       "    </tr>\n",
       "  </tbody>\n",
       "</table>\n",
       "</div>"
      ],
      "text/plain": [
       "  rank                                                img         title   \n",
       "0    1  https://image.genie.co.kr/Y/IMAGE/IMG_ALBUM/08...          I AM  \\\n",
       "1    2  https://image.genie.co.kr/Y/IMAGE/IMG_ALBUM/08...        Kitsch   \n",
       "2    3  https://image.genie.co.kr/Y/IMAGE/IMG_ALBUM/08...           손오공   \n",
       "3    4  https://image.genie.co.kr/Y/IMAGE/IMG_ALBUM/08...             꽃   \n",
       "4    5  https://image.genie.co.kr/Y/IMAGE/IMG_ALBUM/08...  F*ck My Life   \n",
       "\n",
       "            artist                            album  \n",
       "0        IVE (아이브)                         I've IVE  \n",
       "1        IVE (아이브)                         I've IVE  \n",
       "2  세븐틴 (SEVENTEEN)  SEVENTEEN 10th Mini Album 'FML'  \n",
       "3       지수 (JISOO)                               ME  \n",
       "4  세븐틴 (SEVENTEEN)  SEVENTEEN 10th Mini Album 'FML'  "
      ]
     },
     "execution_count": 27,
     "metadata": {},
     "output_type": "execute_result"
    }
   ],
   "source": [
    "df = pd.DataFrame(lines)\n",
    "df.head()"
   ]
  },
  {
   "cell_type": "code",
   "execution_count": 28,
   "metadata": {},
   "outputs": [],
   "source": [
    "df.to_csv(f'data/{ymd}{hh}_지니차트.csv',index=False)"
   ]
  },
  {
   "cell_type": "code",
   "execution_count": null,
   "metadata": {},
   "outputs": [],
   "source": []
  }
 ],
 "metadata": {
  "kernelspec": {
   "display_name": "base",
   "language": "python",
   "name": "python3"
  },
  "language_info": {
   "codemirror_mode": {
    "name": "ipython",
    "version": 3
   },
   "file_extension": ".py",
   "mimetype": "text/x-python",
   "name": "python",
   "nbconvert_exporter": "python",
   "pygments_lexer": "ipython3",
   "version": "3.10.9"
  },
  "orig_nbformat": 4
 },
 "nbformat": 4,
 "nbformat_minor": 2
}
