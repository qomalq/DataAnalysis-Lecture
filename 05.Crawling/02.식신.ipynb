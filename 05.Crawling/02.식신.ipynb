{
 "cells": [
  {
   "attachments": {},
   "cell_type": "markdown",
   "metadata": {},
   "source": [
    "### 식신 - 장안문"
   ]
  },
  {
   "cell_type": "code",
   "execution_count": 2,
   "metadata": {},
   "outputs": [],
   "source": [
    "import requests\n",
    "from urllib.parse import quote\n",
    "import pandas as pd\n",
    "from bs4 import BeautifulSoup"
   ]
  },
  {
   "attachments": {},
   "cell_type": "markdown",
   "metadata": {},
   "source": [
    "#### 1. 데이터 가져오기\n"
   ]
  },
  {
   "cell_type": "code",
   "execution_count": 3,
   "metadata": {},
   "outputs": [],
   "source": [
    "#https://www.siksinhot.com/search?keywords=%EC%9E%A5%EC%95%88%EB%AC%B8\n",
    "base_url='https://www.siksinhot.com/search'\n",
    "url = f'{base_url}?keywords={quote(\"장안문\")}'\n",
    "result = requests.get(url)\n"
   ]
  },
  {
   "cell_type": "code",
   "execution_count": 4,
   "metadata": {},
   "outputs": [],
   "source": [
    "soup = BeautifulSoup(result.text, 'html.parser')"
   ]
  },
  {
   "attachments": {},
   "cell_type": "markdown",
   "metadata": {},
   "source": [
    "#### 2. 원하는 데이터 찾기"
   ]
  },
  {
   "cell_type": "code",
   "execution_count": 5,
   "metadata": {},
   "outputs": [
    {
     "data": {
      "text/plain": [
       "28"
      ]
     },
     "execution_count": 5,
     "metadata": {},
     "output_type": "execute_result"
    }
   ],
   "source": [
    "lis = soup.find_all('li')\n",
    "len(lis)"
   ]
  },
  {
   "cell_type": "code",
   "execution_count": 6,
   "metadata": {},
   "outputs": [
    {
     "data": {
      "text/plain": [
       "20"
      ]
     },
     "execution_count": 6,
     "metadata": {},
     "output_type": "execute_result"
    }
   ],
   "source": [
    "lis = soup.select_one('.localFood_list').find_all('li')\n",
    "len(lis)"
   ]
  },
  {
   "cell_type": "code",
   "execution_count": 7,
   "metadata": {},
   "outputs": [
    {
     "data": {
      "text/plain": [
       "20"
      ]
     },
     "execution_count": 7,
     "metadata": {},
     "output_type": "execute_result"
    }
   ],
   "source": [
    "lis = soup.select('.localFood_list>li')\n",
    "len(lis)"
   ]
  },
  {
   "attachments": {},
   "cell_type": "markdown",
   "metadata": {},
   "source": [
    "#### 3. 하나를 선택해서 원하는 정보를 추출"
   ]
  },
  {
   "cell_type": "code",
   "execution_count": 8,
   "metadata": {},
   "outputs": [
    {
     "data": {
      "text/plain": [
       "'https://img.siksinhot.com/place/1374703567238427.png?w=560&h=448&c=Y'"
      ]
     },
     "execution_count": 8,
     "metadata": {},
     "output_type": "execute_result"
    }
   ],
   "source": [
    "li = lis[0]\n",
    "img = li.find('img')['src']\n",
    "img"
   ]
  },
  {
   "cell_type": "code",
   "execution_count": 9,
   "metadata": {},
   "outputs": [
    {
     "data": {
      "text/plain": [
       "('장안문', '3.5')"
      ]
     },
     "execution_count": 9,
     "metadata": {},
     "output_type": "execute_result"
    }
   ],
   "source": [
    "# 업소명 평점\n",
    "title = li.select_one('.textBox > h2').get_text()\n",
    "score = li.select_one('.textBox > .score').get_text()\n",
    "title, score"
   ]
  },
  {
   "cell_type": "code",
   "execution_count": 10,
   "metadata": {},
   "outputs": [
    {
     "data": {
      "text/plain": [
       "[<a data-reactid=\"67\" href=\"/search?keywords=시청\">시청</a>,\n",
       " <a data-reactid=\"69\" href=\"/search?keywords=돼지갈비\">돼지갈비</a>]"
      ]
     },
     "execution_count": 10,
     "metadata": {},
     "output_type": "execute_result"
    }
   ],
   "source": [
    "# 위치 메뉴\n",
    "atags = li.select('.cate > a')\n",
    "atags"
   ]
  },
  {
   "cell_type": "code",
   "execution_count": 11,
   "metadata": {},
   "outputs": [
    {
     "data": {
      "text/plain": [
       "('시청', '돼지갈비')"
      ]
     },
     "execution_count": 11,
     "metadata": {},
     "output_type": "execute_result"
    }
   ],
   "source": [
    "location = atags[0].get_text()\n",
    "menu = atags[1].get_text()\n",
    "location, menu"
   ]
  },
  {
   "attachments": {},
   "cell_type": "markdown",
   "metadata": {},
   "source": [
    "#### 반복문을 사용하여 페이지에 있는 데이터 가져오기"
   ]
  },
  {
   "cell_type": "code",
   "execution_count": 12,
   "metadata": {},
   "outputs": [],
   "source": [
    "line= []\n",
    "for li in lis:\n",
    "    img = li.find('img')['src']\n",
    "    title = li.select_one('.textBox > h2').get_text()\n",
    "    score = li.select_one('.textBox > .score').get_text()\n",
    "    atags = li.select('.cate > a')\n",
    "    location = atags[0].get_text()\n",
    "    menu = atags[1].get_text()\n",
    "    line.append({'img':img, 'title':title, 'score':score,'location':location,'menu':menu})\n"
   ]
  },
  {
   "attachments": {},
   "cell_type": "markdown",
   "metadata": {},
   "source": [
    "#### 5. 오류 발생 - 오류 해결"
   ]
  },
  {
   "attachments": {},
   "cell_type": "markdown",
   "metadata": {},
   "source": [
    "#### 6. 모든 페이지에 대해 반복하기"
   ]
  },
  {
   "attachments": {},
   "cell_type": "markdown",
   "metadata": {},
   "source": [
    "#### 7. 데이터 프레임으로 만들기"
   ]
  },
  {
   "cell_type": "code",
   "execution_count": 13,
   "metadata": {},
   "outputs": [
    {
     "data": {
      "text/html": [
       "<div>\n",
       "<style scoped>\n",
       "    .dataframe tbody tr th:only-of-type {\n",
       "        vertical-align: middle;\n",
       "    }\n",
       "\n",
       "    .dataframe tbody tr th {\n",
       "        vertical-align: top;\n",
       "    }\n",
       "\n",
       "    .dataframe thead th {\n",
       "        text-align: right;\n",
       "    }\n",
       "</style>\n",
       "<table border=\"1\" class=\"dataframe\">\n",
       "  <thead>\n",
       "    <tr style=\"text-align: right;\">\n",
       "      <th></th>\n",
       "      <th>img</th>\n",
       "      <th>title</th>\n",
       "      <th>score</th>\n",
       "      <th>location</th>\n",
       "      <th>menu</th>\n",
       "    </tr>\n",
       "  </thead>\n",
       "  <tbody>\n",
       "    <tr>\n",
       "      <th>0</th>\n",
       "      <td>https://img.siksinhot.com/place/13747035672384...</td>\n",
       "      <td>장안문</td>\n",
       "      <td>3.5</td>\n",
       "      <td>시청</td>\n",
       "      <td>돼지갈비</td>\n",
       "    </tr>\n",
       "    <tr>\n",
       "      <th>1</th>\n",
       "      <td>https://img.siksinhot.com/place/14576724616075...</td>\n",
       "      <td>장안통닭</td>\n",
       "      <td>4.2</td>\n",
       "      <td>수원-팔달구/인계/행궁</td>\n",
       "      <td>치킨/통닭</td>\n",
       "    </tr>\n",
       "    <tr>\n",
       "      <th>2</th>\n",
       "      <td>https://img.siksinhot.com/place/14168290359781...</td>\n",
       "      <td>장안식당</td>\n",
       "      <td>3.7</td>\n",
       "      <td>함평</td>\n",
       "      <td>곱창/대창</td>\n",
       "    </tr>\n",
       "    <tr>\n",
       "      <th>3</th>\n",
       "      <td>https://img.siksinhot.com/place/13594443896888...</td>\n",
       "      <td>장안사 산장</td>\n",
       "      <td>3.5</td>\n",
       "      <td>기장군/정관</td>\n",
       "      <td>삼계탕/백숙/찜닭</td>\n",
       "    </tr>\n",
       "    <tr>\n",
       "      <th>4</th>\n",
       "      <td>https://img.siksinhot.com/place/16099132855466...</td>\n",
       "      <td>장안정</td>\n",
       "      <td>3.7</td>\n",
       "      <td>왕십리/마장/답십리</td>\n",
       "      <td>경양식/돈가스</td>\n",
       "    </tr>\n",
       "  </tbody>\n",
       "</table>\n",
       "</div>"
      ],
      "text/plain": [
       "                                                 img   title score   \n",
       "0  https://img.siksinhot.com/place/13747035672384...     장안문   3.5  \\\n",
       "1  https://img.siksinhot.com/place/14576724616075...    장안통닭   4.2   \n",
       "2  https://img.siksinhot.com/place/14168290359781...    장안식당   3.7   \n",
       "3  https://img.siksinhot.com/place/13594443896888...  장안사 산장   3.5   \n",
       "4  https://img.siksinhot.com/place/16099132855466...     장안정   3.7   \n",
       "\n",
       "       location       menu  \n",
       "0            시청       돼지갈비  \n",
       "1  수원-팔달구/인계/행궁      치킨/통닭  \n",
       "2            함평      곱창/대창  \n",
       "3        기장군/정관  삼계탕/백숙/찜닭  \n",
       "4    왕십리/마장/답십리    경양식/돈가스  "
      ]
     },
     "execution_count": 13,
     "metadata": {},
     "output_type": "execute_result"
    }
   ],
   "source": [
    "df = pd.DataFrame(line)\n",
    "df.head()"
   ]
  },
  {
   "cell_type": "code",
   "execution_count": null,
   "metadata": {},
   "outputs": [],
   "source": []
  }
 ],
 "metadata": {
  "kernelspec": {
   "display_name": "base",
   "language": "python",
   "name": "python3"
  },
  "language_info": {
   "codemirror_mode": {
    "name": "ipython",
    "version": 3
   },
   "file_extension": ".py",
   "mimetype": "text/x-python",
   "name": "python",
   "nbconvert_exporter": "python",
   "pygments_lexer": "ipython3",
   "version": "3.10.9"
  },
  "orig_nbformat": 4
 },
 "nbformat": 4,
 "nbformat_minor": 2
}
