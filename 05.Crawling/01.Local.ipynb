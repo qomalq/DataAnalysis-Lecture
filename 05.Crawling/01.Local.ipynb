{
 "cells": [
  {
   "attachments": {},
   "cell_type": "markdown",
   "metadata": {},
   "source": [
    "Crawling- BeautifulSoup"
   ]
  },
  {
   "cell_type": "code",
   "execution_count": 59,
   "metadata": {},
   "outputs": [],
   "source": [
    "from bs4 import BeautifulSoup"
   ]
  },
  {
   "cell_type": "code",
   "execution_count": 60,
   "metadata": {},
   "outputs": [
    {
     "data": {
      "text/plain": [
       "<!DOCTYPE html>\n",
       "\n",
       "<html lang=\"en\">\n",
       "<head>\n",
       "<meta charset=\"utf-8\"/>\n",
       "<meta content=\"IE=edge\" http-equiv=\"X-UA-Compatible\"/>\n",
       "<meta content=\"width=device-width, initial-scale=1.0\" name=\"viewport\"/>\n",
       "<title>Document</title>\n",
       "</head>\n",
       "<body style=\"margin: 40px;\">\n",
       "<div>\n",
       "<p>a </p><p>b</p><p>c</p>\n",
       "</div>\n",
       "<div class=\"ex_class sample\">\n",
       "<p>x</p><p>y</p><p>z</p>\n",
       "</div>\n",
       "<div id=\"ex_id\">\n",
       "<p>1</p><p>2</p><p>3</p>\n",
       "</div>\n",
       "<h1>This is heading.</h1>\n",
       "<p>This is paragragh.</p>\n",
       "<a class=\"a sample\" href=\"www.naver.com\">네이버</a>\n",
       "<table border=\"1\" class=\"ex_table\">\n",
       "<tr>\n",
       "<td>A</td><td>B</td><td>C</td>\n",
       "</tr>\n",
       "<tr>\n",
       "<td>X</td><td>Y</td><td>Z</td>\n",
       "</tr>\n",
       "</table>\n",
       "<ul>\n",
       "<li>삼겹살</li>\n",
       "<li>치킨</li>\n",
       "<li>피자</li>\n",
       "</ul>\n",
       "</body>\n",
       "</html>"
      ]
     },
     "execution_count": 60,
     "metadata": {},
     "output_type": "execute_result"
    }
   ],
   "source": [
    "with open('data/01.exaple.html') as f:\n",
    "    soup = BeautifulSoup(f,'html.parser')\n",
    "soup"
   ]
  },
  {
   "attachments": {},
   "cell_type": "markdown",
   "metadata": {},
   "source": [
    "- find(): 조건에 맞는 하나의 태그를 가져옴. 중복시에는 첫번쨰 것만"
   ]
  },
  {
   "cell_type": "code",
   "execution_count": 61,
   "metadata": {},
   "outputs": [
    {
     "data": {
      "text/plain": [
       "<div>\n",
       "<p>a </p><p>b</p><p>c</p>\n",
       "</div>"
      ]
     },
     "execution_count": 61,
     "metadata": {},
     "output_type": "execute_result"
    }
   ],
   "source": [
    "soup.find('div')"
   ]
  },
  {
   "cell_type": "code",
   "execution_count": 62,
   "metadata": {},
   "outputs": [
    {
     "data": {
      "text/plain": [
       "<ul>\n",
       "<li>삼겹살</li>\n",
       "<li>치킨</li>\n",
       "<li>피자</li>\n",
       "</ul>"
      ]
     },
     "execution_count": 62,
     "metadata": {},
     "output_type": "execute_result"
    }
   ],
   "source": [
    "soup.find('ul')"
   ]
  },
  {
   "attachments": {},
   "cell_type": "markdown",
   "metadata": {},
   "source": [
    "- find_all(): 조건에 맞는 모든 태그를 리스트 형태로 반환"
   ]
  },
  {
   "cell_type": "code",
   "execution_count": 63,
   "metadata": {},
   "outputs": [
    {
     "data": {
      "text/plain": [
       "[<li>삼겹살</li>, <li>치킨</li>, <li>피자</li>]"
      ]
     },
     "execution_count": 63,
     "metadata": {},
     "output_type": "execute_result"
    }
   ],
   "source": [
    "\n",
    "soup.findAll('li')"
   ]
  },
  {
   "cell_type": "code",
   "execution_count": 64,
   "metadata": {},
   "outputs": [
    {
     "data": {
      "text/plain": [
       "[<td>A</td>, <td>B</td>, <td>C</td>, <td>X</td>, <td>Y</td>, <td>Z</td>]"
      ]
     },
     "execution_count": 64,
     "metadata": {},
     "output_type": "execute_result"
    }
   ],
   "source": [
    "soup.findAll('td')"
   ]
  },
  {
   "cell_type": "code",
   "execution_count": 65,
   "metadata": {},
   "outputs": [
    {
     "data": {
      "text/plain": [
       "10"
      ]
     },
     "execution_count": 65,
     "metadata": {},
     "output_type": "execute_result"
    }
   ],
   "source": [
    "all_p = soup.find_all('p')\n",
    "len(all_p)"
   ]
  },
  {
   "attachments": {},
   "cell_type": "markdown",
   "metadata": {},
   "source": [
    "# select_ond(): CSS Selector로 하나의 매치되는 하나의 요소만 추출"
   ]
  },
  {
   "cell_type": "code",
   "execution_count": 66,
   "metadata": {},
   "outputs": [
    {
     "data": {
      "text/plain": [
       "<h1>This is heading.</h1>"
      ]
     },
     "execution_count": 66,
     "metadata": {},
     "output_type": "execute_result"
    }
   ],
   "source": [
    "# tag name selector\n",
    "soup.select_one('h1')"
   ]
  },
  {
   "cell_type": "code",
   "execution_count": 67,
   "metadata": {},
   "outputs": [
    {
     "data": {
      "text/plain": [
       "[<p>1</p>, <p>2</p>, <p>3</p>]"
      ]
     },
     "execution_count": 67,
     "metadata": {},
     "output_type": "execute_result"
    }
   ],
   "source": [
    "# id selector\n",
    "number_p = soup.select_one('#ex_id').find_all('p')\n",
    "number_p"
   ]
  },
  {
   "cell_type": "code",
   "execution_count": 68,
   "metadata": {},
   "outputs": [
    {
     "data": {
      "text/plain": [
       "[<p>x</p>, <p>y</p>, <p>z</p>]"
      ]
     },
     "execution_count": 68,
     "metadata": {},
     "output_type": "execute_result"
    }
   ],
   "source": [
    "# class selector\n",
    "# 클래스 이름이 여러개일 경우에는 모든 클래스 이름앞에 .을 찍어 주어야함.\n",
    "xyz_p = soup.select_one('.ex_class.sample').find_all('p')\n",
    "xyz_p"
   ]
  },
  {
   "attachments": {},
   "cell_type": "markdown",
   "metadata": {},
   "source": [
    "- select( ): CSS Selector로 모든 노드를 찾아 리스트로 반환"
   ]
  },
  {
   "cell_type": "code",
   "execution_count": 69,
   "metadata": {},
   "outputs": [
    {
     "data": {
      "text/plain": [
       "[<div class=\"ex_class sample\">\n",
       " <p>x</p><p>y</p><p>z</p>\n",
       " </div>,\n",
       " <a class=\"a sample\" href=\"www.naver.com\">네이버</a>]"
      ]
     },
     "execution_count": 69,
     "metadata": {},
     "output_type": "execute_result"
    }
   ],
   "source": [
    "soup.select('.sample')"
   ]
  },
  {
   "attachments": {},
   "cell_type": "markdown",
   "metadata": {},
   "source": [
    "- 결과값 가져오기"
   ]
  },
  {
   "cell_type": "code",
   "execution_count": 70,
   "metadata": {},
   "outputs": [],
   "source": [
    "atag = soup.select_one('a.a')"
   ]
  },
  {
   "cell_type": "code",
   "execution_count": 71,
   "metadata": {},
   "outputs": [
    {
     "data": {
      "text/plain": [
       "<a class=\"a sample\" href=\"www.naver.com\">네이버</a>"
      ]
     },
     "execution_count": 71,
     "metadata": {},
     "output_type": "execute_result"
    }
   ],
   "source": [
    "atag"
   ]
  },
  {
   "cell_type": "code",
   "execution_count": 72,
   "metadata": {},
   "outputs": [
    {
     "data": {
      "text/plain": [
       "('네이버', '네이버')"
      ]
     },
     "execution_count": 72,
     "metadata": {},
     "output_type": "execute_result"
    }
   ],
   "source": [
    "# Inner text\n",
    "atag.get_text(), atag.string"
   ]
  },
  {
   "cell_type": "code",
   "execution_count": 73,
   "metadata": {},
   "outputs": [
    {
     "data": {
      "text/plain": [
       "('\\na bc\\n', None)"
      ]
     },
     "execution_count": 73,
     "metadata": {},
     "output_type": "execute_result"
    }
   ],
   "source": [
    "first_div = soup.find('div')\n",
    "first_div.get_text(), first_div.string"
   ]
  },
  {
   "cell_type": "code",
   "execution_count": 74,
   "metadata": {},
   "outputs": [],
   "source": [
    "first_div.string"
   ]
  },
  {
   "cell_type": "code",
   "execution_count": 75,
   "metadata": {},
   "outputs": [
    {
     "data": {
      "text/plain": [
       "'www.naver.com'"
      ]
     },
     "execution_count": 75,
     "metadata": {},
     "output_type": "execute_result"
    }
   ],
   "source": [
    "# 속성값\n",
    "atag['href']"
   ]
  },
  {
   "cell_type": "code",
   "execution_count": 76,
   "metadata": {},
   "outputs": [
    {
     "data": {
      "text/plain": [
       "'margin: 40px;'"
      ]
     },
     "execution_count": 76,
     "metadata": {},
     "output_type": "execute_result"
    }
   ],
   "source": [
    "soup.find('body')['style']"
   ]
  },
  {
   "attachments": {},
   "cell_type": "markdown",
   "metadata": {},
   "source": [
    "- 실전에서 사용하는 방법"
   ]
  },
  {
   "cell_type": "code",
   "execution_count": 81,
   "metadata": {},
   "outputs": [
    {
     "name": "stdout",
     "output_type": "stream",
     "text": [
      "A B C \n",
      "X Y Z \n"
     ]
    }
   ],
   "source": [
    "trs = soup.select_one('.ex_table').find_all('tr')\n",
    "for tr in trs:\n",
    "    for td in tr.find_all('td'):\n",
    "        print(td.get_text(), end=' ')\n",
    "    print()\n",
    "        "
   ]
  },
  {
   "cell_type": "code",
   "execution_count": null,
   "metadata": {},
   "outputs": [],
   "source": []
  }
 ],
 "metadata": {
  "kernelspec": {
   "display_name": "base",
   "language": "python",
   "name": "python3"
  },
  "language_info": {
   "codemirror_mode": {
    "name": "ipython",
    "version": 3
   },
   "file_extension": ".py",
   "mimetype": "text/x-python",
   "name": "python",
   "nbconvert_exporter": "python",
   "pygments_lexer": "ipython3",
   "version": "3.10.9"
  },
  "orig_nbformat": 4
 },
 "nbformat": 4,
 "nbformat_minor": 2
}
