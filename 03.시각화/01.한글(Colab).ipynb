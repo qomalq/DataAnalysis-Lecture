{
  "cells": [
    {
      "cell_type": "markdown",
      "metadata": {
        "id": "9CuYeI9b7qwv"
      },
      "source": [
        "Matplotlib 한글 사용 -Colab"
      ]
    },
    {
      "cell_type": "code",
      "execution_count": 7,
      "metadata": {
        "colab": {
          "base_uri": "https://localhost:8080/"
        },
        "id": "LqknQ_7xT0DG",
        "outputId": "2a5b9bcf-23a6-4c5e-cb2e-5422f410ba5e"
      },
      "outputs": [
        {
          "name": "stderr",
          "output_type": "stream",
          "text": [
            "'apt-get'��(��) ���� �Ǵ� �ܺ� ����, ������ �� �ִ� ���α׷�, �Ǵ�\n",
            "��ġ ������ �ƴմϴ�.\n"
          ]
        }
      ],
      "source": [
        "!apt-get install -y fonts-nanum"
      ]
    },
    {
      "cell_type": "code",
      "execution_count": 8,
      "metadata": {
        "colab": {
          "base_uri": "https://localhost:8080/"
        },
        "id": "KBHIWQcI7262",
        "outputId": "5232616d-e02e-4f9e-93ad-82c91583e02a"
      },
      "outputs": [
        {
          "name": "stderr",
          "output_type": "stream",
          "text": [
            "'fc-cache'��(��) ���� �Ǵ� �ܺ� ����, ������ �� �ִ� ���α׷�, �Ǵ�\n",
            "��ġ ������ �ƴմϴ�.\n"
          ]
        }
      ],
      "source": [
        "!fc-cache -fv"
      ]
    },
    {
      "cell_type": "code",
      "execution_count": 9,
      "metadata": {
        "id": "SHVF87-E76h1"
      },
      "outputs": [
        {
          "name": "stderr",
          "output_type": "stream",
          "text": [
            "'rm'��(��) ���� �Ǵ� �ܺ� ����, ������ �� �ִ� ���α׷�, �Ǵ�\n",
            "��ġ ������ �ƴմϴ�.\n"
          ]
        }
      ],
      "source": [
        "!rm -rf ~/.cache/matplotlib"
      ]
    },
    {
      "cell_type": "code",
      "execution_count": 10,
      "metadata": {
        "colab": {
          "base_uri": "https://localhost:8080/"
        },
        "id": "FzE6Y3AH8CEN",
        "outputId": "fba4a0bd-5463-4253-a86b-4dfeca917dc0"
      },
      "outputs": [
        {
          "name": "stderr",
          "output_type": "stream",
          "text": [
            "������ ��θ� ã�� �� �����ϴ�.\n",
            "������ ��θ� ã�� �� �����ϴ�.\n",
            "'rm'��(��) ���� �Ǵ� �ܺ� ����, ������ �� �ִ� ���α׷�, �Ǵ�\n",
            "��ġ ������ �ƴմϴ�.\n"
          ]
        }
      ],
      "source": [
        "# 향후에 1) 2) 3) 대신 코드를 사용한다.\n",
        "!apt-get install -y fonts-nanum > /dev/null\n",
        "!fc-cache -fv > /dev/null\n",
        "!rm -rf ~/.cache/matplotlib\n",
        "#런타임 다시 시작"
      ]
    },
    {
      "cell_type": "code",
      "execution_count": 11,
      "metadata": {
        "id": "42l71_MQ8vHG"
      },
      "outputs": [],
      "source": [
        "import matplotlib.pyplot as plt\n",
        "plt.rcParams['font.family'] = 'NanumBarunGothic'\n"
      ]
    },
    {
      "cell_type": "code",
      "execution_count": 12,
      "metadata": {
        "colab": {
          "base_uri": "https://localhost:8080/",
          "height": 451
        },
        "id": "55Q6woqk85qw",
        "outputId": "03e64882-8225-4449-93e2-122ada3406a7"
      },
      "outputs": [
        {
          "name": "stderr",
          "output_type": "stream",
          "text": [
            "findfont: Font family 'NanumBarunGothic' not found.\n",
            "findfont: Font family 'NanumBarunGothic' not found.\n",
            "findfont: Font family 'NanumBarunGothic' not found.\n",
            "findfont: Font family 'NanumBarunGothic' not found.\n",
            "findfont: Font family 'NanumBarunGothic' not found.\n",
            "findfont: Font family 'NanumBarunGothic' not found.\n",
            "findfont: Font family 'NanumBarunGothic' not found.\n",
            "findfont: Font family 'NanumBarunGothic' not found.\n",
            "findfont: Font family 'NanumBarunGothic' not found.\n",
            "findfont: Font family 'NanumBarunGothic' not found.\n",
            "findfont: Font family 'NanumBarunGothic' not found.\n",
            "findfont: Font family 'NanumBarunGothic' not found.\n",
            "findfont: Font family 'NanumBarunGothic' not found.\n",
            "findfont: Font family 'NanumBarunGothic' not found.\n",
            "findfont: Font family 'NanumBarunGothic' not found.\n",
            "findfont: Font family 'NanumBarunGothic' not found.\n",
            "findfont: Font family 'NanumBarunGothic' not found.\n",
            "findfont: Font family 'NanumBarunGothic' not found.\n",
            "findfont: Font family 'NanumBarunGothic' not found.\n",
            "findfont: Font family 'NanumBarunGothic' not found.\n",
            "findfont: Font family 'NanumBarunGothic' not found.\n",
            "findfont: Font family 'NanumBarunGothic' not found.\n",
            "findfont: Font family 'NanumBarunGothic' not found.\n",
            "findfont: Font family 'NanumBarunGothic' not found.\n",
            "findfont: Font family 'NanumBarunGothic' not found.\n",
            "findfont: Font family 'NanumBarunGothic' not found.\n",
            "findfont: Font family 'NanumBarunGothic' not found.\n",
            "findfont: Font family 'NanumBarunGothic' not found.\n",
            "findfont: Font family 'NanumBarunGothic' not found.\n",
            "findfont: Font family 'NanumBarunGothic' not found.\n",
            "findfont: Font family 'NanumBarunGothic' not found.\n",
            "findfont: Font family 'NanumBarunGothic' not found.\n",
            "findfont: Font family 'NanumBarunGothic' not found.\n",
            "findfont: Font family 'NanumBarunGothic' not found.\n",
            "findfont: Font family 'NanumBarunGothic' not found.\n",
            "findfont: Font family 'NanumBarunGothic' not found.\n",
            "findfont: Font family 'NanumBarunGothic' not found.\n",
            "findfont: Font family 'NanumBarunGothic' not found.\n",
            "findfont: Font family 'NanumBarunGothic' not found.\n",
            "findfont: Font family 'NanumBarunGothic' not found.\n",
            "findfont: Font family 'NanumBarunGothic' not found.\n",
            "findfont: Font family 'NanumBarunGothic' not found.\n",
            "findfont: Font family 'NanumBarunGothic' not found.\n"
          ]
        },
        {
          "data": {
            "image/png": "[encoded data removed]",
            "text/plain": [
              "<Figure size 640x480 with 1 Axes>"
            ]
          },
          "metadata": {},
          "output_type": "display_data"
        }
      ],
      "source": [
        "plt.plot([0,1,2,3],[0,1,4,9])   # X, Y\n",
        "plt.title('라인 플롯')          #제목\n",
        "plt.grid()                      #격자선\n",
        "plt.show()"
      ]
    },
    {
      "cell_type": "code",
      "execution_count": null,
      "metadata": {
        "id": "gpah8L769Oy-"
      },
      "outputs": [],
      "source": []
    }
  ],
  "metadata": {
    "colab": {
      "provenance": []
    },
    "kernelspec": {
      "display_name": "Python 3",
      "name": "python3"
    },
    "language_info": {
      "codemirror_mode": {
        "name": "ipython",
        "version": 3
      },
      "file_extension": ".py",
      "mimetype": "text/x-python",
      "name": "python",
      "nbconvert_exporter": "python",
      "pygments_lexer": "ipython3",
      "version": "3.10.9"
    }
  },
  "nbformat": 4,
  "nbformat_minor": 0
}
