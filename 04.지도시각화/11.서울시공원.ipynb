{
 "cells": [
  {
   "attachments": {},
   "cell_type": "markdown",
   "metadata": {},
   "source": [
    "### 서울시 공원 시각화"
   ]
  },
  {
   "cell_type": "code",
   "execution_count": 38,
   "metadata": {},
   "outputs": [],
   "source": [
    "import pandas as pd\n",
    "import numpy as np\n",
    "import folium"
   ]
  },
  {
   "cell_type": "code",
   "execution_count": 39,
   "metadata": {},
   "outputs": [
    {
     "name": "stdout",
     "output_type": "stream",
     "text": [
      "<class 'pandas.core.frame.DataFrame'>\n",
      "RangeIndex: 132 entries, 0 to 131\n",
      "Data columns (total 20 columns):\n",
      " #   Column        Non-Null Count  Dtype  \n",
      "---  ------        --------------  -----  \n",
      " 0   연번            132 non-null    int64  \n",
      " 1   공원명           132 non-null    object \n",
      " 2   공원개요          131 non-null    object \n",
      " 3   면적            129 non-null    object \n",
      " 4   개원일           122 non-null    object \n",
      " 5   주요시설          124 non-null    object \n",
      " 6   주요식물          88 non-null     object \n",
      " 7   안내도           102 non-null    object \n",
      " 8   오시는길          115 non-null    object \n",
      " 9   이용시참고사항       120 non-null    object \n",
      " 10  이미지           132 non-null    object \n",
      " 11  지역            131 non-null    object \n",
      " 12  공원주소          132 non-null    object \n",
      " 13  관리부서          132 non-null    object \n",
      " 14  전화번호          132 non-null    object \n",
      " 15  X좌표(GRS80TM)  122 non-null    float64\n",
      " 16  Y좌표(GRS80TM)  122 non-null    float64\n",
      " 17  X좌표(WGS84)    131 non-null    float64\n",
      " 18  Y좌표(WGS84)    131 non-null    float64\n",
      " 19  바로가기          18 non-null     object \n",
      "dtypes: float64(4), int64(1), object(15)\n",
      "memory usage: 20.8+ KB\n"
     ]
    }
   ],
   "source": [
    "df = pd.read_csv('data/서울시 주요 공원현황.csv', encoding='euc-kr')\n",
    "df.info()"
   ]
  },
  {
   "cell_type": "code",
   "execution_count": 40,
   "metadata": {},
   "outputs": [
    {
     "data": {
      "text/html": [
       "<div>\n",
       "<style scoped>\n",
       "    .dataframe tbody tr th:only-of-type {\n",
       "        vertical-align: middle;\n",
       "    }\n",
       "\n",
       "    .dataframe tbody tr th {\n",
       "        vertical-align: top;\n",
       "    }\n",
       "\n",
       "    .dataframe thead th {\n",
       "        text-align: right;\n",
       "    }\n",
       "</style>\n",
       "<table border=\"1\" class=\"dataframe\">\n",
       "  <thead>\n",
       "    <tr style=\"text-align: right;\">\n",
       "      <th></th>\n",
       "      <th>공원명</th>\n",
       "      <th>면적</th>\n",
       "      <th>공원주소</th>\n",
       "      <th>X좌표(WGS84)</th>\n",
       "      <th>Y좌표(WGS84)</th>\n",
       "    </tr>\n",
       "  </thead>\n",
       "  <tbody>\n",
       "    <tr>\n",
       "      <th>0</th>\n",
       "      <td>남산도시자연공원</td>\n",
       "      <td>2896887㎡ 임 야 : 2454140㎡ 녹지대 및 기타시설 : 442747㎡</td>\n",
       "      <td>서울특별시 중구 삼일대로 231(예장동)</td>\n",
       "      <td>126.990377</td>\n",
       "      <td>37.550140</td>\n",
       "    </tr>\n",
       "    <tr>\n",
       "      <th>1</th>\n",
       "      <td>길동생태공원</td>\n",
       "      <td>80683㎡</td>\n",
       "      <td>서울특별시 강동구 천호대로 1291(길동생태공원)</td>\n",
       "      <td>127.154779</td>\n",
       "      <td>37.540394</td>\n",
       "    </tr>\n",
       "    <tr>\n",
       "      <th>2</th>\n",
       "      <td>서울대공원</td>\n",
       "      <td>9132690m²</td>\n",
       "      <td>경기도 과천시 대공원광장로 102</td>\n",
       "      <td>127.019846</td>\n",
       "      <td>37.426449</td>\n",
       "    </tr>\n",
       "    <tr>\n",
       "      <th>3</th>\n",
       "      <td>서울숲</td>\n",
       "      <td>480994㎡</td>\n",
       "      <td>서울특별시 성동구 뚝섬로 273 (성수동1가)</td>\n",
       "      <td>127.041798</td>\n",
       "      <td>37.543072</td>\n",
       "    </tr>\n",
       "    <tr>\n",
       "      <th>4</th>\n",
       "      <td>월드컵공원</td>\n",
       "      <td>2284085㎡</td>\n",
       "      <td>서울특별시 마포구 하늘공원로 84(월드컵공원)</td>\n",
       "      <td>126.878907</td>\n",
       "      <td>37.571805</td>\n",
       "    </tr>\n",
       "  </tbody>\n",
       "</table>\n",
       "</div>"
      ],
      "text/plain": [
       "        공원명                                            면적   \n",
       "0  남산도시자연공원  2896887㎡ 임 야 : 2454140㎡ 녹지대 및 기타시설 : 442747㎡  \\\n",
       "1    길동생태공원                                        80683㎡   \n",
       "2     서울대공원                                     9132690m²   \n",
       "3       서울숲                                       480994㎡   \n",
       "4     월드컵공원                                      2284085㎡   \n",
       "\n",
       "                           공원주소  X좌표(WGS84)  Y좌표(WGS84)  \n",
       "0        서울특별시 중구 삼일대로 231(예장동)  126.990377   37.550140  \n",
       "1  서울특별시 강동구 천호대로 1291(길동생태공원)   127.154779   37.540394  \n",
       "2            경기도 과천시 대공원광장로 102  127.019846   37.426449  \n",
       "3    서울특별시 성동구 뚝섬로 273 (성수동1가)   127.041798   37.543072  \n",
       "4     서울특별시 마포구 하늘공원로 84(월드컵공원)  126.878907   37.571805  "
      ]
     },
     "execution_count": 40,
     "metadata": {},
     "output_type": "execute_result"
    }
   ],
   "source": [
    "df = df[['공원명','면적','공원주소','X좌표(WGS84)','Y좌표(WGS84)']]\n",
    "df.head()"
   ]
  },
  {
   "cell_type": "code",
   "execution_count": 41,
   "metadata": {},
   "outputs": [
    {
     "data": {
      "text/plain": [
       "0"
      ]
     },
     "execution_count": 41,
     "metadata": {},
     "output_type": "execute_result"
    }
   ],
   "source": [
    "df.dropna(subset=['면적','X좌표(WGS84)'],inplace=True)\n",
    "df.isna().sum().sum()"
   ]
  },
  {
   "attachments": {},
   "cell_type": "markdown",
   "metadata": {},
   "source": [
    "- 면적에 따라 공원크기를 지도에 표시"
   ]
  },
  {
   "cell_type": "code",
   "execution_count": 42,
   "metadata": {},
   "outputs": [
    {
     "data": {
      "text/plain": [
       "10                                        5197.7㎡ \n",
       "11                                         11467㎡ \n",
       "12                                         229539㎡\n",
       "13                                      15179.7 ㎡ \n",
       "14                                      16734.60㎥ \n",
       "15    61544㎡ 녹지대 : 40792㎡ 광 장 : 6600㎡ 기 타 : 14152㎡\n",
       "16                                        424106㎡ \n",
       "17                                         560552㎡\n",
       "18                                       26696.8㎥ \n",
       "19                                          75900㎡\n",
       "20                                      113021.7m2\n",
       "21                                        201779㎥ \n",
       "22                                      258991㎡   \n",
       "23                                    10420819.08㎡\n",
       "24                                       171294.1㎥\n",
       "25                                        총 15000㎡\n",
       "26                                         297926㎡\n",
       "27                                         411972㎡\n",
       "28                                          98470㎡\n",
       "29                                      2038741.3㎡\n",
       "Name: 면적, dtype: object"
      ]
     },
     "execution_count": 42,
     "metadata": {},
     "output_type": "execute_result"
    }
   ],
   "source": [
    "df.면적.head(30).tail(20)"
   ]
  },
  {
   "cell_type": "code",
   "execution_count": 43,
   "metadata": {},
   "outputs": [],
   "source": [
    "# '총' 지우기\n",
    "df['면적'] = df['면적'].replace('총','')"
   ]
  },
  {
   "cell_type": "code",
   "execution_count": 44,
   "metadata": {},
   "outputs": [
    {
     "data": {
      "text/plain": [
       "10                                        5197.7㎡ \n",
       "11                                         11467㎡ \n",
       "12                                         229539㎡\n",
       "13                                      15179.7 ㎡ \n",
       "14                                      16734.60㎥ \n",
       "15    61544㎡ 녹지대 : 40792㎡ 광 장 : 6600㎡ 기 타 : 14152㎡\n",
       "16                                        424106㎡ \n",
       "17                                         560552㎡\n",
       "18                                       26696.8㎥ \n",
       "19                                          75900㎡\n",
       "20                                      113021.7m2\n",
       "21                                        201779㎥ \n",
       "22                                      258991㎡   \n",
       "23                                    10420819.08㎡\n",
       "24                                       171294.1㎥\n",
       "25                                        총 15000㎡\n",
       "26                                         297926㎡\n",
       "27                                         411972㎡\n",
       "28                                          98470㎡\n",
       "29                                      2038741.3㎡\n",
       "Name: 면적, dtype: object"
      ]
     },
     "execution_count": 44,
     "metadata": {},
     "output_type": "execute_result"
    }
   ],
   "source": [
    "df.면적.head(30).tail(20)"
   ]
  }
 ],
 "metadata": {
  "kernelspec": {
   "display_name": "base",
   "language": "python",
   "name": "python3"
  },
  "language_info": {
   "codemirror_mode": {
    "name": "ipython",
    "version": 3
   },
   "file_extension": ".py",
   "mimetype": "text/x-python",
   "name": "python",
   "nbconvert_exporter": "python",
   "pygments_lexer": "ipython3",
   "version": "3.10.9"
  },
  "orig_nbformat": 4
 },
 "nbformat": 4,
 "nbformat_minor": 2
}
