{
 "cells": [
  {
   "cell_type": "code",
   "execution_count": 139,
   "metadata": {},
   "outputs": [],
   "source": [
    "import requests, json\n",
    "from urllib.parse import quote   # 한글 인코딩"
   ]
  },
  {
   "cell_type": "code",
   "execution_count": 140,
   "metadata": {},
   "outputs": [],
   "source": [
    "with open('data/roadapikey.txt') as f:\n",
    "    road_key = f.read()"
   ]
  },
  {
   "cell_type": "code",
   "execution_count": 141,
   "metadata": {},
   "outputs": [],
   "source": [
    "base_url = 'https://www.juso.go.kr/addrlink/addrLinkApiJsonp.do'\n",
    "params1 = f'confmKey={road_key}&currentPage=1&countPerPage=10'\n",
    "params2 = f'keyword={quote(\"아주대학교\")}&resultType=json'\n",
    "url = f'{base_url}?{params1}&{params2}'"
   ]
  },
  {
   "cell_type": "code",
   "execution_count": 142,
   "metadata": {},
   "outputs": [
    {
     "data": {
      "text/plain": [
       "200"
      ]
     },
     "execution_count": 142,
     "metadata": {},
     "output_type": "execute_result"
    }
   ],
   "source": [
    "result = requests.get(url)\n",
    "result.status_code\n"
   ]
  },
  {
   "cell_type": "code",
   "execution_count": 143,
   "metadata": {},
   "outputs": [
    {
     "data": {
      "text/plain": [
       "'({\"results\":{\"common\":{\"errorMessage\":\"정상\",\"countPerPage\":\"10\",\"totalCount\":\"13\",\"errorCode\":\"0\",\"currentPage\":\"1\"},\"juso\":[{\"detBdNmList\":\"\",\"engAddr\":\"199 World cup-ro, Yeongtong-gu, Suwon-si, Gyeon'"
      ]
     },
     "execution_count": 143,
     "metadata": {},
     "output_type": "execute_result"
    }
   ],
   "source": [
    "result.text[:200]"
   ]
  },
  {
   "cell_type": "code",
   "execution_count": 144,
   "metadata": {},
   "outputs": [],
   "source": [
    "# 시작과 끝에 괄호 없애기\n",
    "res = json.loads(result.text[1:-1])"
   ]
  },
  {
   "cell_type": "code",
   "execution_count": 145,
   "metadata": {},
   "outputs": [
    {
     "data": {
      "text/plain": [
       "{'results': {'common': {'errorMessage': '정상',\n",
       "   'countPerPage': '10',\n",
       "   'totalCount': '13',\n",
       "   'errorCode': '0',\n",
       "   'currentPage': '1'},\n",
       "  'juso': [{'detBdNmList': '',\n",
       "    'engAddr': '199 World cup-ro, Yeongtong-gu, Suwon-si, Gyeonggi-do',\n",
       "    'rn': '월드컵로',\n",
       "    'emdNm': '원천동',\n",
       "    'zipNo': '16502',\n",
       "    'roadAddrPart2': ' (원천동)',\n",
       "    'emdNo': '01',\n",
       "    'sggNm': '수원시 영통구',\n",
       "    'jibunAddr': '경기도 수원시 영통구 원천동 13-4 아주대학교어학교육원',\n",
       "    'siNm': '경기도',\n",
       "    'roadAddrPart1': '경기도 수원시 영통구 월드컵로 199',\n",
       "    'bdNm': '아주대학교어학교육원',\n",
       "    'admCd': '4111710200',\n",
       "    'udrtYn': '0',\n",
       "    'lnbrMnnm': '13',\n",
       "    'roadAddr': '경기도 수원시 영통구 월드컵로 199 (원천동)',\n",
       "    'lnbrSlno': '4',\n",
       "    'buldMnnm': '199',\n",
       "    'bdKdcd': '0',\n",
       "    'liNm': '',\n",
       "    'rnMgtSn': '411173177012',\n",
       "    'mtYn': '0',\n",
       "    'bdMgtSn': '4111710200100130004004722',\n",
       "    'buldSlno': '0'},\n",
       "   {'detBdNmList': '원천관, 의생명과학관, 임상수기센터 및 실험동물센터, 중앙도서관, 학생회관1, 국제학사, 산학협력원, 원천정보관, 서관, 화공실험동, 동관, 토목실험동, 대형지반연구실험동, 종합설계동, 팔달관, 에너지센터, 체육관, 남제관, 기숙사식당, 연암관, 성호관, 동물실험실, 학생회관2, 율곡관, 변전실, 약학관, 다산관, 용지관, 학군단, 화홍관, 광교관, 홍재관',\n",
       "    'engAddr': '206 World cup-ro, Yeongtong-gu, Suwon-si, Gyeonggi-do',\n",
       "    'rn': '월드컵로',\n",
       "    'emdNm': '원천동',\n",
       "    'zipNo': '16499',\n",
       "    'roadAddrPart2': ' (원천동)',\n",
       "    'emdNo': '01',\n",
       "    'sggNm': '수원시 영통구',\n",
       "    'jibunAddr': '경기도 수원시 영통구 원천동 산5-1 아주대학교',\n",
       "    'siNm': '경기도',\n",
       "    'roadAddrPart1': '경기도 수원시 영통구 월드컵로 206',\n",
       "    'bdNm': '아주대학교',\n",
       "    'admCd': '4111710200',\n",
       "    'udrtYn': '0',\n",
       "    'lnbrMnnm': '5',\n",
       "    'roadAddr': '경기도 수원시 영통구 월드컵로 206 (원천동)',\n",
       "    'lnbrSlno': '1',\n",
       "    'buldMnnm': '206',\n",
       "    'bdKdcd': '0',\n",
       "    'liNm': '',\n",
       "    'rnMgtSn': '411173177012',\n",
       "    'mtYn': '1',\n",
       "    'bdMgtSn': '4111710200200050001004746',\n",
       "    'buldSlno': '0'},\n",
       "   {'detBdNmList': '',\n",
       "    'engAddr': '21 World cup-ro 150beon-gil, Yeongtong-gu, Suwon-si, Gyeonggi-do',\n",
       "    'rn': '월드컵로150번길',\n",
       "    'emdNm': '원천동',\n",
       "    'zipNo': '16500',\n",
       "    'roadAddrPart2': ' (원천동)',\n",
       "    'emdNo': '01',\n",
       "    'sggNm': '수원시 영통구',\n",
       "    'jibunAddr': '경기도 수원시 영통구 원천동 561 아주대학교요양병원',\n",
       "    'siNm': '경기도',\n",
       "    'roadAddrPart1': '경기도 수원시 영통구 월드컵로150번길 21',\n",
       "    'bdNm': '아주대학교요양병원',\n",
       "    'admCd': '4111710200',\n",
       "    'udrtYn': '0',\n",
       "    'lnbrMnnm': '561',\n",
       "    'roadAddr': '경기도 수원시 영통구 월드컵로150번길 21 (원천동)',\n",
       "    'lnbrSlno': '0',\n",
       "    'buldMnnm': '21',\n",
       "    'bdKdcd': '0',\n",
       "    'liNm': '',\n",
       "    'rnMgtSn': '411174331246',\n",
       "    'mtYn': '0',\n",
       "    'bdMgtSn': '4111710200105610000000001',\n",
       "    'buldSlno': '0'},\n",
       "   {'detBdNmList': '본관동',\n",
       "    'engAddr': '106 Daehak-gil, Jupo-myeon, Boryeong-si, Chungcheongnam-do',\n",
       "    'rn': '대학길',\n",
       "    'emdNm': '주포면',\n",
       "    'zipNo': '33415',\n",
       "    'roadAddrPart2': '',\n",
       "    'emdNo': '01',\n",
       "    'sggNm': '보령시',\n",
       "    'jibunAddr': '충청남도 보령시 주포면 관산리 290-1 아주자동차대학교',\n",
       "    'siNm': '충청남도',\n",
       "    'roadAddrPart1': '충청남도 보령시 주포면 대학길 106',\n",
       "    'bdNm': '아주자동차대학교',\n",
       "    'admCd': '4418031024',\n",
       "    'udrtYn': '0',\n",
       "    'lnbrMnnm': '290',\n",
       "    'roadAddr': '충청남도 보령시 주포면 대학길 106',\n",
       "    'lnbrSlno': '1',\n",
       "    'buldMnnm': '106',\n",
       "    'bdKdcd': '0',\n",
       "    'liNm': '관산리',\n",
       "    'rnMgtSn': '441804556143',\n",
       "    'mtYn': '0',\n",
       "    'bdMgtSn': '4418031024102900001038741',\n",
       "    'buldSlno': '0'},\n",
       "   {'detBdNmList': '강의동',\n",
       "    'engAddr': '106-1 Daehak-gil, Jupo-myeon, Boryeong-si, Chungcheongnam-do',\n",
       "    'rn': '대학길',\n",
       "    'emdNm': '주포면',\n",
       "    'zipNo': '33415',\n",
       "    'roadAddrPart2': '',\n",
       "    'emdNo': '01',\n",
       "    'sggNm': '보령시',\n",
       "    'jibunAddr': '충청남도 보령시 주포면 관산리 290-1 아주자동차대학교',\n",
       "    'siNm': '충청남도',\n",
       "    'roadAddrPart1': '충청남도 보령시 주포면 대학길 106-1',\n",
       "    'bdNm': '아주자동차대학교',\n",
       "    'admCd': '4418031024',\n",
       "    'udrtYn': '0',\n",
       "    'lnbrMnnm': '290',\n",
       "    'roadAddr': '충청남도 보령시 주포면 대학길 106-1',\n",
       "    'lnbrSlno': '1',\n",
       "    'buldMnnm': '106',\n",
       "    'bdKdcd': '0',\n",
       "    'liNm': '관산리',\n",
       "    'rnMgtSn': '441804556143',\n",
       "    'mtYn': '0',\n",
       "    'bdMgtSn': '4418031024102900001038742',\n",
       "    'buldSlno': '1'},\n",
       "   {'detBdNmList': '실험실습동',\n",
       "    'engAddr': '106-2 Daehak-gil, Jupo-myeon, Boryeong-si, Chungcheongnam-do',\n",
       "    'rn': '대학길',\n",
       "    'emdNm': '주포면',\n",
       "    'zipNo': '33415',\n",
       "    'roadAddrPart2': '',\n",
       "    'emdNo': '01',\n",
       "    'sggNm': '보령시',\n",
       "    'jibunAddr': '충청남도 보령시 주포면 관산리 290-1 아주자동차대학교',\n",
       "    'siNm': '충청남도',\n",
       "    'roadAddrPart1': '충청남도 보령시 주포면 대학길 106-2',\n",
       "    'bdNm': '아주자동차대학교',\n",
       "    'admCd': '4418031024',\n",
       "    'udrtYn': '0',\n",
       "    'lnbrMnnm': '290',\n",
       "    'roadAddr': '충청남도 보령시 주포면 대학길 106-2',\n",
       "    'lnbrSlno': '1',\n",
       "    'buldMnnm': '106',\n",
       "    'bdKdcd': '0',\n",
       "    'liNm': '관산리',\n",
       "    'rnMgtSn': '441804556143',\n",
       "    'mtYn': '0',\n",
       "    'bdMgtSn': '4418031024102900001038743',\n",
       "    'buldSlno': '2'},\n",
       "   {'detBdNmList': '취업지원센터',\n",
       "    'engAddr': '106-3 Daehak-gil, Jupo-myeon, Boryeong-si, Chungcheongnam-do',\n",
       "    'rn': '대학길',\n",
       "    'emdNm': '주포면',\n",
       "    'zipNo': '33415',\n",
       "    'roadAddrPart2': '',\n",
       "    'emdNo': '01',\n",
       "    'sggNm': '보령시',\n",
       "    'jibunAddr': '충청남도 보령시 주포면 관산리 290-1 아주자동차대학교',\n",
       "    'siNm': '충청남도',\n",
       "    'roadAddrPart1': '충청남도 보령시 주포면 대학길 106-3',\n",
       "    'bdNm': '아주자동차대학교',\n",
       "    'admCd': '4418031024',\n",
       "    'udrtYn': '0',\n",
       "    'lnbrMnnm': '290',\n",
       "    'roadAddr': '충청남도 보령시 주포면 대학길 106-3',\n",
       "    'lnbrSlno': '1',\n",
       "    'buldMnnm': '106',\n",
       "    'bdKdcd': '0',\n",
       "    'liNm': '관산리',\n",
       "    'rnMgtSn': '441804556143',\n",
       "    'mtYn': '0',\n",
       "    'bdMgtSn': '4418031024102900001038744',\n",
       "    'buldSlno': '3'},\n",
       "   {'detBdNmList': '구내식당',\n",
       "    'engAddr': '106-4 Daehak-gil, Jupo-myeon, Boryeong-si, Chungcheongnam-do',\n",
       "    'rn': '대학길',\n",
       "    'emdNm': '주포면',\n",
       "    'zipNo': '33415',\n",
       "    'roadAddrPart2': '',\n",
       "    'emdNo': '01',\n",
       "    'sggNm': '보령시',\n",
       "    'jibunAddr': '충청남도 보령시 주포면 관산리 290-1 아주자동차대학교',\n",
       "    'siNm': '충청남도',\n",
       "    'roadAddrPart1': '충청남도 보령시 주포면 대학길 106-4',\n",
       "    'bdNm': '아주자동차대학교',\n",
       "    'admCd': '4418031024',\n",
       "    'udrtYn': '0',\n",
       "    'lnbrMnnm': '290',\n",
       "    'roadAddr': '충청남도 보령시 주포면 대학길 106-4',\n",
       "    'lnbrSlno': '1',\n",
       "    'buldMnnm': '106',\n",
       "    'bdKdcd': '0',\n",
       "    'liNm': '관산리',\n",
       "    'rnMgtSn': '441804556143',\n",
       "    'mtYn': '0',\n",
       "    'bdMgtSn': '4418031024102900001038745',\n",
       "    'buldSlno': '4'},\n",
       "   {'detBdNmList': '생활관(A)동',\n",
       "    'engAddr': '106-5 Daehak-gil, Jupo-myeon, Boryeong-si, Chungcheongnam-do',\n",
       "    'rn': '대학길',\n",
       "    'emdNm': '주포면',\n",
       "    'zipNo': '33415',\n",
       "    'roadAddrPart2': '',\n",
       "    'emdNo': '01',\n",
       "    'sggNm': '보령시',\n",
       "    'jibunAddr': '충청남도 보령시 주포면 관산리 290-1 아주자동차대학교',\n",
       "    'siNm': '충청남도',\n",
       "    'roadAddrPart1': '충청남도 보령시 주포면 대학길 106-5',\n",
       "    'bdNm': '아주자동차대학교',\n",
       "    'admCd': '4418031024',\n",
       "    'udrtYn': '0',\n",
       "    'lnbrMnnm': '290',\n",
       "    'roadAddr': '충청남도 보령시 주포면 대학길 106-5',\n",
       "    'lnbrSlno': '1',\n",
       "    'buldMnnm': '106',\n",
       "    'bdKdcd': '0',\n",
       "    'liNm': '관산리',\n",
       "    'rnMgtSn': '441804556143',\n",
       "    'mtYn': '0',\n",
       "    'bdMgtSn': '4418031024102900001038746',\n",
       "    'buldSlno': '5'},\n",
       "   {'detBdNmList': '생활관(B동)',\n",
       "    'engAddr': '106-6 Daehak-gil, Jupo-myeon, Boryeong-si, Chungcheongnam-do',\n",
       "    'rn': '대학길',\n",
       "    'emdNm': '주포면',\n",
       "    'zipNo': '33415',\n",
       "    'roadAddrPart2': '',\n",
       "    'emdNo': '01',\n",
       "    'sggNm': '보령시',\n",
       "    'jibunAddr': '충청남도 보령시 주포면 관산리 290-1 아주자동차대학교',\n",
       "    'siNm': '충청남도',\n",
       "    'roadAddrPart1': '충청남도 보령시 주포면 대학길 106-6',\n",
       "    'bdNm': '아주자동차대학교',\n",
       "    'admCd': '4418031024',\n",
       "    'udrtYn': '0',\n",
       "    'lnbrMnnm': '290',\n",
       "    'roadAddr': '충청남도 보령시 주포면 대학길 106-6',\n",
       "    'lnbrSlno': '1',\n",
       "    'buldMnnm': '106',\n",
       "    'bdKdcd': '0',\n",
       "    'liNm': '관산리',\n",
       "    'rnMgtSn': '441804556143',\n",
       "    'mtYn': '0',\n",
       "    'bdMgtSn': '4418031024102900001038747',\n",
       "    'buldSlno': '6'}]}}"
      ]
     },
     "execution_count": 145,
     "metadata": {},
     "output_type": "execute_result"
    }
   ],
   "source": [
    "res"
   ]
  },
  {
   "cell_type": "code",
   "execution_count": 146,
   "metadata": {},
   "outputs": [
    {
     "data": {
      "text/plain": [
       "dict_keys(['common', 'juso'])"
      ]
     },
     "execution_count": 146,
     "metadata": {},
     "output_type": "execute_result"
    }
   ],
   "source": [
    "res['results'].keys()"
   ]
  },
  {
   "cell_type": "code",
   "execution_count": 147,
   "metadata": {},
   "outputs": [
    {
     "data": {
      "text/plain": [
       "{'detBdNmList': '',\n",
       " 'engAddr': '199 World cup-ro, Yeongtong-gu, Suwon-si, Gyeonggi-do',\n",
       " 'rn': '월드컵로',\n",
       " 'emdNm': '원천동',\n",
       " 'zipNo': '16502',\n",
       " 'roadAddrPart2': ' (원천동)',\n",
       " 'emdNo': '01',\n",
       " 'sggNm': '수원시 영통구',\n",
       " 'jibunAddr': '경기도 수원시 영통구 원천동 13-4 아주대학교어학교육원',\n",
       " 'siNm': '경기도',\n",
       " 'roadAddrPart1': '경기도 수원시 영통구 월드컵로 199',\n",
       " 'bdNm': '아주대학교어학교육원',\n",
       " 'admCd': '4111710200',\n",
       " 'udrtYn': '0',\n",
       " 'lnbrMnnm': '13',\n",
       " 'roadAddr': '경기도 수원시 영통구 월드컵로 199 (원천동)',\n",
       " 'lnbrSlno': '4',\n",
       " 'buldMnnm': '199',\n",
       " 'bdKdcd': '0',\n",
       " 'liNm': '',\n",
       " 'rnMgtSn': '411173177012',\n",
       " 'mtYn': '0',\n",
       " 'bdMgtSn': '4111710200100130004004722',\n",
       " 'buldSlno': '0'}"
      ]
     },
     "execution_count": 147,
     "metadata": {},
     "output_type": "execute_result"
    }
   ],
   "source": [
    "res['results']['juso'][0]"
   ]
  },
  {
   "cell_type": "code",
   "execution_count": 148,
   "metadata": {},
   "outputs": [
    {
     "data": {
      "text/plain": [
       "'경기도 수원시 영통구 월드컵로 199 (원천동)'"
      ]
     },
     "execution_count": 148,
     "metadata": {},
     "output_type": "execute_result"
    }
   ],
   "source": [
    "# 원하는 결과\n",
    "res['results']['juso'][0]['roadAddr']"
   ]
  },
  {
   "cell_type": "code",
   "execution_count": 149,
   "metadata": {},
   "outputs": [
    {
     "data": {
      "text/plain": [
       "['아주대학교',\n",
       " ' 동남보건대학',\n",
       " ' 용인 경희대학교',\n",
       " ' 수원 여자대학',\n",
       " ' 수원 대학교',\n",
       " ' 수원 과학대학교',\n",
       " ' 수원 경기대학교',\n",
       " ' 수원 성균관대학교']"
      ]
     },
     "execution_count": 149,
     "metadata": {},
     "output_type": "execute_result"
    }
   ],
   "source": [
    "list = '아주대학교, 동남보건대학, 용인 경희대학교, 수원 여자대학, 수원 대학교, 수원 과학대학교, 수원 경기대학교, 수원 성균관대학교'.split(',')\n",
    "list"
   ]
  },
  {
   "cell_type": "code",
   "execution_count": 150,
   "metadata": {},
   "outputs": [],
   "source": [
    "road_addr_list = []\n",
    "for gov in gov_list:\n",
    "    params2 = f'keyword={quote(gov)}&resultType=json'\n",
    "    url = f'{base_url}?{params1}&{params2}'\n",
    "    result = requests.get(url)\n",
    "    if result.status_code == 200:\n",
    "        res = json.loads(result.text[1:-1])\n",
    "        road_addr_list.append(res['results']['juso'][0]['roadAddr'])\n",
    "    else:\n",
    "        print(result.status_code)\n",
    "        "
   ]
  },
  {
   "cell_type": "code",
   "execution_count": 151,
   "metadata": {},
   "outputs": [
    {
     "data": {
      "text/html": [
       "<div>\n",
       "<style scoped>\n",
       "    .dataframe tbody tr th:only-of-type {\n",
       "        vertical-align: middle;\n",
       "    }\n",
       "\n",
       "    .dataframe tbody tr th {\n",
       "        vertical-align: top;\n",
       "    }\n",
       "\n",
       "    .dataframe thead th {\n",
       "        text-align: right;\n",
       "    }\n",
       "</style>\n",
       "<table border=\"1\" class=\"dataframe\">\n",
       "  <thead>\n",
       "    <tr style=\"text-align: right;\">\n",
       "      <th></th>\n",
       "      <th>이름</th>\n",
       "      <th>주소</th>\n",
       "    </tr>\n",
       "  </thead>\n",
       "  <tbody>\n",
       "    <tr>\n",
       "      <th>0</th>\n",
       "      <td>아주대학교</td>\n",
       "      <td>경기도 수원시 영통구 월드컵로 199 (원천동)</td>\n",
       "    </tr>\n",
       "    <tr>\n",
       "      <th>1</th>\n",
       "      <td>동남보건대학</td>\n",
       "      <td>경기도 수원시 장안구 천천로74번길 50 (정자동)</td>\n",
       "    </tr>\n",
       "    <tr>\n",
       "      <th>2</th>\n",
       "      <td>용인 경희대학교</td>\n",
       "      <td>경기도 용인시 기흥구 덕영대로 1732 (서천동)</td>\n",
       "    </tr>\n",
       "    <tr>\n",
       "      <th>3</th>\n",
       "      <td>수원 여자대학</td>\n",
       "      <td>경기도 수원시 권선구 온정로 72 (오목천동)</td>\n",
       "    </tr>\n",
       "    <tr>\n",
       "      <th>4</th>\n",
       "      <td>수원 대학교</td>\n",
       "      <td>경기도 화성시 봉담읍 와우안길 17</td>\n",
       "    </tr>\n",
       "    <tr>\n",
       "      <th>5</th>\n",
       "      <td>수원 과학대학교</td>\n",
       "      <td>경기도 수원시 권선구 서호로 89 (서둔동)</td>\n",
       "    </tr>\n",
       "    <tr>\n",
       "      <th>6</th>\n",
       "      <td>수원 경기대학교</td>\n",
       "      <td>경기도 수원시 영통구 광교산로 154-42 (이의동)</td>\n",
       "    </tr>\n",
       "    <tr>\n",
       "      <th>7</th>\n",
       "      <td>수원 성균관대학교</td>\n",
       "      <td>경기도 수원시 장안구 서부로 2066 (천천동)</td>\n",
       "    </tr>\n",
       "  </tbody>\n",
       "</table>\n",
       "</div>"
      ],
      "text/plain": [
       "           이름                             주소\n",
       "0       아주대학교     경기도 수원시 영통구 월드컵로 199 (원천동)\n",
       "1      동남보건대학   경기도 수원시 장안구 천천로74번길 50 (정자동)\n",
       "2    용인 경희대학교    경기도 용인시 기흥구 덕영대로 1732 (서천동)\n",
       "3     수원 여자대학      경기도 수원시 권선구 온정로 72 (오목천동)\n",
       "4      수원 대학교            경기도 화성시 봉담읍 와우안길 17\n",
       "5    수원 과학대학교       경기도 수원시 권선구 서호로 89 (서둔동)\n",
       "6    수원 경기대학교  경기도 수원시 영통구 광교산로 154-42 (이의동)\n",
       "7   수원 성균관대학교     경기도 수원시 장안구 서부로 2066 (천천동)"
      ]
     },
     "execution_count": 151,
     "metadata": {},
     "output_type": "execute_result"
    }
   ],
   "source": [
    "import pandas as pd\n",
    "\n",
    "df = pd.DataFrame({\n",
    "    '이름': list, '주소': road_addr_list\n",
    "})\n",
    "df"
   ]
  },
  {
   "cell_type": "code",
   "execution_count": null,
   "metadata": {},
   "outputs": [],
   "source": []
  }
 ],
 "metadata": {
  "kernelspec": {
   "display_name": "base",
   "language": "python",
   "name": "python3"
  },
  "language_info": {
   "codemirror_mode": {
    "name": "ipython",
    "version": 3
   },
   "file_extension": ".py",
   "mimetype": "text/x-python",
   "name": "python",
   "nbconvert_exporter": "python",
   "pygments_lexer": "ipython3",
   "version": "3.10.9"
  },
  "orig_nbformat": 4
 },
 "nbformat": 4,
 "nbformat_minor": 2
}
