{
 "cells": [
  {
   "attachments": {},
   "cell_type": "markdown",
   "metadata": {},
   "source": [
    "### 행정안전부 도로명주소 API활용"
   ]
  },
  {
   "cell_type": "code",
   "execution_count": 1,
   "metadata": {},
   "outputs": [],
   "source": [
    "import requests, json\n",
    "from urllib.parse import quote   # 한글 인코딩"
   ]
  },
  {
   "attachments": {},
   "cell_type": "markdown",
   "metadata": {},
   "source": [
    "- API KEY 가져오기"
   ]
  },
  {
   "cell_type": "code",
   "execution_count": 2,
   "metadata": {},
   "outputs": [],
   "source": [
    "with open('data/roadapikey.txt') as f:\n",
    "    road_key = f.read()"
   ]
  },
  {
   "attachments": {},
   "cell_type": "markdown",
   "metadata": {},
   "source": [
    "- URL 만들기"
   ]
  },
  {
   "cell_type": "code",
   "execution_count": 3,
   "metadata": {},
   "outputs": [
    {
     "data": {
      "text/plain": [
       "'%EA%B2%BD%EA%B8%B0%EB%8F%84%EC%B2%AD'"
      ]
     },
     "execution_count": 3,
     "metadata": {},
     "output_type": "execute_result"
    }
   ],
   "source": [
    "# 한글은 반드시 인코딩해서 보내야한다.\n",
    "quote('경기도청')"
   ]
  },
  {
   "cell_type": "code",
   "execution_count": 4,
   "metadata": {},
   "outputs": [],
   "source": [
    "base_url = 'https://www.juso.go.kr/addrlink/addrLinkApiJsonp.do'\n",
    "params1 = f'confmKey={road_key}&currentPage=1&countPerPage=10'\n",
    "params2 = f'keyword={quote(\"경기도청\")}&resultType=json'\n",
    "url = f'{base_url}?{params1}&{params2}'"
   ]
  },
  {
   "attachments": {},
   "cell_type": "markdown",
   "metadata": {},
   "source": [
    "- Open API 호출해서 결과 받기"
   ]
  },
  {
   "cell_type": "code",
   "execution_count": 5,
   "metadata": {},
   "outputs": [
    {
     "data": {
      "text/plain": [
       "200"
      ]
     },
     "execution_count": 5,
     "metadata": {},
     "output_type": "execute_result"
    }
   ],
   "source": [
    "result = requests.get(url)\n",
    "result.status_code\n"
   ]
  },
  {
   "cell_type": "code",
   "execution_count": 6,
   "metadata": {},
   "outputs": [
    {
     "data": {
      "text/plain": [
       "'({\"results\":{\"common\":{\"errorMessage\":\"정상\",\"countPerPage\":\"10\",\"totalCount\":\"68\",\"errorCode\":\"0\",\"currentPage\":\"1\"},\"juso\":[{\"detBdNmList\":\"\",\"engAddr\":\"30 Docheong-ro, Yeongtong-gu, Suwon-si, Gyeongg'"
      ]
     },
     "execution_count": 6,
     "metadata": {},
     "output_type": "execute_result"
    }
   ],
   "source": [
    "result.text[:200]"
   ]
  },
  {
   "attachments": {},
   "cell_type": "markdown",
   "metadata": {},
   "source": [
    "- Json data를 Python에서 읽을 수 있도록 변환"
   ]
  },
  {
   "cell_type": "code",
   "execution_count": 7,
   "metadata": {},
   "outputs": [],
   "source": [
    "# 시작과 끝에 괄호 없애기\n",
    "res = json.loads(result.text[1:-1])"
   ]
  },
  {
   "cell_type": "code",
   "execution_count": 8,
   "metadata": {},
   "outputs": [
    {
     "data": {
      "text/plain": [
       "{'results': {'common': {'errorMessage': '정상',\n",
       "   'countPerPage': '10',\n",
       "   'totalCount': '68',\n",
       "   'errorCode': '0',\n",
       "   'currentPage': '1'},\n",
       "  'juso': [{'detBdNmList': '',\n",
       "    'engAddr': '30 Docheong-ro, Yeongtong-gu, Suwon-si, Gyeonggi-do',\n",
       "    'rn': '도청로',\n",
       "    'emdNm': '이의동',\n",
       "    'zipNo': '16508',\n",
       "    'roadAddrPart2': ' (이의동)',\n",
       "    'emdNo': '01',\n",
       "    'sggNm': '수원시 영통구',\n",
       "    'jibunAddr': '경기도 수원시 영통구 이의동 0 경기도청',\n",
       "    'siNm': '경기도',\n",
       "    'roadAddrPart1': '경기도 수원시 영통구 도청로 30',\n",
       "    'bdNm': '경기도청',\n",
       "    'admCd': '4111710300',\n",
       "    'udrtYn': '0',\n",
       "    'lnbrMnnm': '0',\n",
       "    'roadAddr': '경기도 수원시 영통구 도청로 30 (이의동)',\n",
       "    'lnbrSlno': '0',\n",
       "    'buldMnnm': '30',\n",
       "    'bdKdcd': '0',\n",
       "    'liNm': '',\n",
       "    'rnMgtSn': '411173177029',\n",
       "    'mtYn': '0',\n",
       "    'bdMgtSn': '4111710300100000000000001',\n",
       "    'buldSlno': '0'},\n",
       "   {'detBdNmList': '',\n",
       "    'engAddr': '28 Docheong-ro, Yeongtong-gu, Suwon-si, Gyeonggi-do',\n",
       "    'rn': '도청로',\n",
       "    'emdNm': '이의동',\n",
       "    'zipNo': '16508',\n",
       "    'roadAddrPart2': ' (이의동)',\n",
       "    'emdNo': '01',\n",
       "    'sggNm': '수원시 영통구',\n",
       "    'jibunAddr': '경기도 수원시 영통구 이의동 0 경기도교육청',\n",
       "    'siNm': '경기도',\n",
       "    'roadAddrPart1': '경기도 수원시 영통구 도청로 28',\n",
       "    'bdNm': '경기도교육청',\n",
       "    'admCd': '4111710300',\n",
       "    'udrtYn': '0',\n",
       "    'lnbrMnnm': '0',\n",
       "    'roadAddr': '경기도 수원시 영통구 도청로 28 (이의동)',\n",
       "    'lnbrSlno': '0',\n",
       "    'buldMnnm': '28',\n",
       "    'bdKdcd': '0',\n",
       "    'liNm': '',\n",
       "    'rnMgtSn': '411173177029',\n",
       "    'mtYn': '0',\n",
       "    'bdMgtSn': '4111710300100000000000008',\n",
       "    'buldSlno': '0'},\n",
       "   {'detBdNmList': '',\n",
       "    'engAddr': '21 Gohwa-ro 130beon-gil, Paldal-gu, Suwon-si, Gyeonggi-do',\n",
       "    'rn': '고화로130번길',\n",
       "    'emdNm': '화서동',\n",
       "    'zipNo': '16440',\n",
       "    'roadAddrPart2': ' (화서동)',\n",
       "    'emdNo': '01',\n",
       "    'sggNm': '수원시 팔달구',\n",
       "    'jibunAddr': '경기도 수원시 팔달구 화서동 43-7 경기도청어린이집',\n",
       "    'siNm': '경기도',\n",
       "    'roadAddrPart1': '경기도 수원시 팔달구 고화로130번길 21',\n",
       "    'bdNm': '경기도청어린이집',\n",
       "    'admCd': '4111513800',\n",
       "    'udrtYn': '0',\n",
       "    'lnbrMnnm': '43',\n",
       "    'roadAddr': '경기도 수원시 팔달구 고화로130번길 21 (화서동)',\n",
       "    'lnbrSlno': '7',\n",
       "    'buldMnnm': '21',\n",
       "    'bdKdcd': '0',\n",
       "    'liNm': '',\n",
       "    'rnMgtSn': '411154328065',\n",
       "    'mtYn': '0',\n",
       "    'bdMgtSn': '4111513800100430007017879',\n",
       "    'buldSlno': '0'},\n",
       "   {'detBdNmList': '본관',\n",
       "    'engAddr': '1 Hyowon-ro, Paldal-gu, Suwon-si, Gyeonggi-do',\n",
       "    'rn': '효원로',\n",
       "    'emdNm': '매산로3가',\n",
       "    'zipNo': '16444',\n",
       "    'roadAddrPart2': ' (매산로3가)',\n",
       "    'emdNo': '03',\n",
       "    'sggNm': '수원시 팔달구',\n",
       "    'jibunAddr': '경기도 수원시 팔달구 매산로3가 1-1 경기도청',\n",
       "    'siNm': '경기도',\n",
       "    'roadAddrPart1': '경기도 수원시 팔달구 효원로 1',\n",
       "    'bdNm': '경기도청',\n",
       "    'admCd': '4111513600',\n",
       "    'udrtYn': '0',\n",
       "    'lnbrMnnm': '1',\n",
       "    'roadAddr': '경기도 수원시 팔달구 효원로 1 (매산로3가)',\n",
       "    'lnbrSlno': '1',\n",
       "    'buldMnnm': '1',\n",
       "    'bdKdcd': '0',\n",
       "    'liNm': '',\n",
       "    'rnMgtSn': '411153176021',\n",
       "    'mtYn': '0',\n",
       "    'bdMgtSn': '4111513600100010001005165',\n",
       "    'buldSlno': '0'},\n",
       "   {'detBdNmList': '',\n",
       "    'engAddr': '615 Janggok-ro, Uijeongbu-si, Gyeonggi-do',\n",
       "    'rn': '장곡로',\n",
       "    'emdNm': '신곡동',\n",
       "    'zipNo': '11775',\n",
       "    'roadAddrPart2': ' (신곡동)',\n",
       "    'emdNo': '02',\n",
       "    'sggNm': '의정부시',\n",
       "    'jibunAddr': '경기도 의정부시 신곡동 815-2 경기도청북부청사 정거장',\n",
       "    'siNm': '경기도',\n",
       "    'roadAddrPart1': '경기도 의정부시 장곡로 615',\n",
       "    'bdNm': '경기도청북부청사 정거장',\n",
       "    'admCd': '4115010400',\n",
       "    'udrtYn': '0',\n",
       "    'lnbrMnnm': '815',\n",
       "    'roadAddr': '경기도 의정부시 장곡로 615 (신곡동)',\n",
       "    'lnbrSlno': '2',\n",
       "    'buldMnnm': '615',\n",
       "    'bdKdcd': '0',\n",
       "    'liNm': '',\n",
       "    'rnMgtSn': '411503181039',\n",
       "    'mtYn': '0',\n",
       "    'bdMgtSn': '4115010400108140006000001',\n",
       "    'buldSlno': '0'},\n",
       "   {'detBdNmList': '경기도보건환경연구원,바이러스분자생물학실입동',\n",
       "    'engAddr': '1 Cheongsa-ro, Uijeongbu-si, Gyeonggi-do',\n",
       "    'rn': '청사로',\n",
       "    'emdNm': '신곡동',\n",
       "    'zipNo': '11780',\n",
       "    'roadAddrPart2': ' (신곡동)',\n",
       "    'emdNo': '01',\n",
       "    'sggNm': '의정부시',\n",
       "    'jibunAddr': '경기도 의정부시 신곡동 800 경기도청 북부청사',\n",
       "    'siNm': '경기도',\n",
       "    'roadAddrPart1': '경기도 의정부시 청사로 1',\n",
       "    'bdNm': '경기도청 북부청사',\n",
       "    'admCd': '4115010400',\n",
       "    'udrtYn': '0',\n",
       "    'lnbrMnnm': '800',\n",
       "    'roadAddr': '경기도 의정부시 청사로 1 (신곡동)',\n",
       "    'lnbrSlno': '0',\n",
       "    'buldMnnm': '1',\n",
       "    'bdKdcd': '0',\n",
       "    'liNm': '',\n",
       "    'rnMgtSn': '411503181047',\n",
       "    'mtYn': '0',\n",
       "    'bdMgtSn': '4115010400108000000017422',\n",
       "    'buldSlno': '0'},\n",
       "   {'detBdNmList': '경기도청생활관,주차장',\n",
       "    'engAddr': '42 Chudong-ro 124beon-gil, Uijeongbu-si, Gyeonggi-do',\n",
       "    'rn': '추동로124번길',\n",
       "    'emdNm': '신곡동',\n",
       "    'zipNo': '11779',\n",
       "    'roadAddrPart2': ' (신곡동)',\n",
       "    'emdNo': '01',\n",
       "    'sggNm': '의정부시',\n",
       "    'jibunAddr': '경기도 의정부시 신곡동 73-17 경기도청생활관',\n",
       "    'siNm': '경기도',\n",
       "    'roadAddrPart1': '경기도 의정부시 추동로124번길 42',\n",
       "    'bdNm': '경기도청생활관',\n",
       "    'admCd': '4115010400',\n",
       "    'udrtYn': '0',\n",
       "    'lnbrMnnm': '73',\n",
       "    'roadAddr': '경기도 의정부시 추동로124번길 42 (신곡동)',\n",
       "    'lnbrSlno': '17',\n",
       "    'buldMnnm': '42',\n",
       "    'bdKdcd': '0',\n",
       "    'liNm': '',\n",
       "    'rnMgtSn': '411504343348',\n",
       "    'mtYn': '0',\n",
       "    'bdMgtSn': '4115010400100730017017239',\n",
       "    'buldSlno': '0'},\n",
       "   {'detBdNmList': '',\n",
       "    'engAddr': '10 Docheong-ro, Yeongtong-gu, Suwon-si, Gyeonggi-do',\n",
       "    'rn': '도청로',\n",
       "    'emdNm': '이의동',\n",
       "    'zipNo': '16508',\n",
       "    'roadAddrPart2': ' (이의동)',\n",
       "    'emdNo': '01',\n",
       "    'sggNm': '수원시 영통구',\n",
       "    'jibunAddr': '경기도 수원시 영통구 이의동 1338 광교센트럴푸르지오시티',\n",
       "    'siNm': '경기도',\n",
       "    'roadAddrPart1': '경기도 수원시 영통구 도청로 10',\n",
       "    'bdNm': '광교센트럴푸르지오시티',\n",
       "    'admCd': '4111710300',\n",
       "    'udrtYn': '0',\n",
       "    'lnbrMnnm': '1338',\n",
       "    'roadAddr': '경기도 수원시 영통구 도청로 10 (이의동)',\n",
       "    'lnbrSlno': '0',\n",
       "    'buldMnnm': '10',\n",
       "    'bdKdcd': '0',\n",
       "    'liNm': '',\n",
       "    'rnMgtSn': '411173177029',\n",
       "    'mtYn': '0',\n",
       "    'bdMgtSn': '4111710300113380000000001',\n",
       "    'buldSlno': '0'},\n",
       "   {'detBdNmList': '',\n",
       "    'engAddr': '26 Docheong-ro, Yeongtong-gu, Suwon-si, Gyeonggi-do',\n",
       "    'rn': '도청로',\n",
       "    'emdNm': '이의동',\n",
       "    'zipNo': '16508',\n",
       "    'roadAddrPart2': ' (이의동)',\n",
       "    'emdNo': '01',\n",
       "    'sggNm': '수원시 영통구',\n",
       "    'jibunAddr': '경기도 수원시 영통구 이의동 0',\n",
       "    'siNm': '경기도',\n",
       "    'roadAddrPart1': '경기도 수원시 영통구 도청로 26',\n",
       "    'bdNm': '',\n",
       "    'admCd': '4111710300',\n",
       "    'udrtYn': '0',\n",
       "    'lnbrMnnm': '0',\n",
       "    'roadAddr': '경기도 수원시 영통구 도청로 26 (이의동)',\n",
       "    'lnbrSlno': '0',\n",
       "    'buldMnnm': '26',\n",
       "    'bdKdcd': '0',\n",
       "    'liNm': '',\n",
       "    'rnMgtSn': '411173177029',\n",
       "    'mtYn': '0',\n",
       "    'bdMgtSn': '4111710300100000000000005',\n",
       "    'buldSlno': '0'},\n",
       "   {'detBdNmList': '',\n",
       "    'engAddr': 'B45 Docheong-ro, Yeongtong-gu, Suwon-si, Gyeonggi-do',\n",
       "    'rn': '도청로',\n",
       "    'emdNm': '이의동',\n",
       "    'zipNo': '16509',\n",
       "    'roadAddrPart2': ' (이의동)',\n",
       "    'emdNo': '01',\n",
       "    'sggNm': '수원시 영통구',\n",
       "    'jibunAddr': '경기도 수원시 영통구 이의동 268-1',\n",
       "    'siNm': '경기도',\n",
       "    'roadAddrPart1': '경기도 수원시 영통구 도청로 지하45',\n",
       "    'bdNm': '',\n",
       "    'admCd': '4111710300',\n",
       "    'udrtYn': '1',\n",
       "    'lnbrMnnm': '268',\n",
       "    'roadAddr': '경기도 수원시 영통구 도청로 지하45 (이의동)',\n",
       "    'lnbrSlno': '1',\n",
       "    'buldMnnm': '45',\n",
       "    'bdKdcd': '0',\n",
       "    'liNm': '',\n",
       "    'rnMgtSn': '411173177029',\n",
       "    'mtYn': '0',\n",
       "    'bdMgtSn': '4111710300102680001000002',\n",
       "    'buldSlno': '0'}]}}"
      ]
     },
     "execution_count": 8,
     "metadata": {},
     "output_type": "execute_result"
    }
   ],
   "source": [
    "res"
   ]
  },
  {
   "cell_type": "code",
   "execution_count": 9,
   "metadata": {},
   "outputs": [
    {
     "data": {
      "text/plain": [
       "dict_keys(['common', 'juso'])"
      ]
     },
     "execution_count": 9,
     "metadata": {},
     "output_type": "execute_result"
    }
   ],
   "source": [
    "res['results'].keys()"
   ]
  },
  {
   "cell_type": "code",
   "execution_count": 10,
   "metadata": {},
   "outputs": [
    {
     "data": {
      "text/plain": [
       "{'detBdNmList': '',\n",
       " 'engAddr': '30 Docheong-ro, Yeongtong-gu, Suwon-si, Gyeonggi-do',\n",
       " 'rn': '도청로',\n",
       " 'emdNm': '이의동',\n",
       " 'zipNo': '16508',\n",
       " 'roadAddrPart2': ' (이의동)',\n",
       " 'emdNo': '01',\n",
       " 'sggNm': '수원시 영통구',\n",
       " 'jibunAddr': '경기도 수원시 영통구 이의동 0 경기도청',\n",
       " 'siNm': '경기도',\n",
       " 'roadAddrPart1': '경기도 수원시 영통구 도청로 30',\n",
       " 'bdNm': '경기도청',\n",
       " 'admCd': '4111710300',\n",
       " 'udrtYn': '0',\n",
       " 'lnbrMnnm': '0',\n",
       " 'roadAddr': '경기도 수원시 영통구 도청로 30 (이의동)',\n",
       " 'lnbrSlno': '0',\n",
       " 'buldMnnm': '30',\n",
       " 'bdKdcd': '0',\n",
       " 'liNm': '',\n",
       " 'rnMgtSn': '411173177029',\n",
       " 'mtYn': '0',\n",
       " 'bdMgtSn': '4111710300100000000000001',\n",
       " 'buldSlno': '0'}"
      ]
     },
     "execution_count": 10,
     "metadata": {},
     "output_type": "execute_result"
    }
   ],
   "source": [
    "res['results']['juso'][0]"
   ]
  },
  {
   "cell_type": "code",
   "execution_count": 11,
   "metadata": {},
   "outputs": [
    {
     "data": {
      "text/plain": [
       "'경기도 수원시 영통구 도청로 30 (이의동)'"
      ]
     },
     "execution_count": 11,
     "metadata": {},
     "output_type": "execute_result"
    }
   ],
   "source": [
    "# 원하는 결과\n",
    "res['results']['juso'][0]['roadAddr']"
   ]
  },
  {
   "attachments": {},
   "cell_type": "markdown",
   "metadata": {},
   "source": [
    "### 경기도청, 장안구청, 권선구청, 팔달구청, 영통구청"
   ]
  },
  {
   "cell_type": "code",
   "execution_count": 12,
   "metadata": {},
   "outputs": [
    {
     "data": {
      "text/plain": [
       "['경기도청', ' 장안구청', ' 권선구청', ' 팔달구청', ' 영통구청']"
      ]
     },
     "execution_count": 12,
     "metadata": {},
     "output_type": "execute_result"
    }
   ],
   "source": [
    "gov_list = '경기도청, 장안구청, 권선구청, 팔달구청, 영통구청'.split(',')\n",
    "gov_list"
   ]
  },
  {
   "cell_type": "code",
   "execution_count": 13,
   "metadata": {},
   "outputs": [],
   "source": [
    "road_addr_list = []\n",
    "for gov in gov_list:\n",
    "    params2 = f'keyword={quote(gov)}&resultType=json'\n",
    "    url = f'{base_url}?{params1}&{params2}'\n",
    "    result = requests.get(url)\n",
    "    if result.status_code == 200:\n",
    "        res = json.loads(result.text[1:-1])\n",
    "        road_addr_list.append(res['results']['juso'][0]['roadAddr'])\n",
    "    else:\n",
    "        print(result.status_code)\n",
    "        "
   ]
  },
  {
   "cell_type": "code",
   "execution_count": 14,
   "metadata": {},
   "outputs": [
    {
     "data": {
      "text/html": [
       "<div>\n",
       "<style scoped>\n",
       "    .dataframe tbody tr th:only-of-type {\n",
       "        vertical-align: middle;\n",
       "    }\n",
       "\n",
       "    .dataframe tbody tr th {\n",
       "        vertical-align: top;\n",
       "    }\n",
       "\n",
       "    .dataframe thead th {\n",
       "        text-align: right;\n",
       "    }\n",
       "</style>\n",
       "<table border=\"1\" class=\"dataframe\">\n",
       "  <thead>\n",
       "    <tr style=\"text-align: right;\">\n",
       "      <th></th>\n",
       "      <th>이름</th>\n",
       "      <th>주소</th>\n",
       "    </tr>\n",
       "  </thead>\n",
       "  <tbody>\n",
       "    <tr>\n",
       "      <th>0</th>\n",
       "      <td>경기도청</td>\n",
       "      <td>경기도 수원시 영통구 도청로 30 (이의동)</td>\n",
       "    </tr>\n",
       "    <tr>\n",
       "      <th>1</th>\n",
       "      <td>장안구청</td>\n",
       "      <td>경기도 수원시 장안구 송원로 101 (조원동)</td>\n",
       "    </tr>\n",
       "    <tr>\n",
       "      <th>2</th>\n",
       "      <td>권선구청</td>\n",
       "      <td>경기도 수원시 권선구 호매실로 12 (탑동)</td>\n",
       "    </tr>\n",
       "    <tr>\n",
       "      <th>3</th>\n",
       "      <td>팔달구청</td>\n",
       "      <td>경기도 수원시 팔달구 창룡대로 23 (매향동)</td>\n",
       "    </tr>\n",
       "    <tr>\n",
       "      <th>4</th>\n",
       "      <td>영통구청</td>\n",
       "      <td>경기도 수원시 영통구 효원로 407 (매탄동)</td>\n",
       "    </tr>\n",
       "  </tbody>\n",
       "</table>\n",
       "</div>"
      ],
      "text/plain": [
       "      이름                         주소\n",
       "0   경기도청   경기도 수원시 영통구 도청로 30 (이의동)\n",
       "1   장안구청  경기도 수원시 장안구 송원로 101 (조원동)\n",
       "2   권선구청   경기도 수원시 권선구 호매실로 12 (탑동)\n",
       "3   팔달구청  경기도 수원시 팔달구 창룡대로 23 (매향동)\n",
       "4   영통구청  경기도 수원시 영통구 효원로 407 (매탄동)"
      ]
     },
     "execution_count": 14,
     "metadata": {},
     "output_type": "execute_result"
    }
   ],
   "source": [
    "import pandas as pd\n",
    "\n",
    "df = pd.DataFrame({\n",
    "    '이름': gov_list, '주소': road_addr_list\n",
    "})\n",
    "df"
   ]
  },
  {
   "cell_type": "code",
   "execution_count": 15,
   "metadata": {},
   "outputs": [
    {
     "data": {
      "text/html": [
       "<div>\n",
       "<style scoped>\n",
       "    .dataframe tbody tr th:only-of-type {\n",
       "        vertical-align: middle;\n",
       "    }\n",
       "\n",
       "    .dataframe tbody tr th {\n",
       "        vertical-align: top;\n",
       "    }\n",
       "\n",
       "    .dataframe thead th {\n",
       "        text-align: right;\n",
       "    }\n",
       "</style>\n",
       "<table border=\"1\" class=\"dataframe\">\n",
       "  <thead>\n",
       "    <tr style=\"text-align: right;\">\n",
       "      <th></th>\n",
       "      <th>이름</th>\n",
       "      <th>주소</th>\n",
       "    </tr>\n",
       "  </thead>\n",
       "  <tbody>\n",
       "    <tr>\n",
       "      <th>0</th>\n",
       "      <td>경기도청</td>\n",
       "      <td>경기도 수원시 영통구 도청로 30 (이의동)</td>\n",
       "    </tr>\n",
       "    <tr>\n",
       "      <th>1</th>\n",
       "      <td>장안구청</td>\n",
       "      <td>경기도 수원시 장안구 송원로 101 (조원동)</td>\n",
       "    </tr>\n",
       "    <tr>\n",
       "      <th>2</th>\n",
       "      <td>권선구청</td>\n",
       "      <td>경기도 수원시 권선구 호매실로 12 (탑동)</td>\n",
       "    </tr>\n",
       "    <tr>\n",
       "      <th>3</th>\n",
       "      <td>팔달구청</td>\n",
       "      <td>경기도 수원시 팔달구 창룡대로 23 (매향동)</td>\n",
       "    </tr>\n",
       "    <tr>\n",
       "      <th>4</th>\n",
       "      <td>영통구청</td>\n",
       "      <td>경기도 수원시 영통구 효원로 407 (매탄동)</td>\n",
       "    </tr>\n",
       "  </tbody>\n",
       "</table>\n",
       "</div>"
      ],
      "text/plain": [
       "      이름                         주소\n",
       "0   경기도청   경기도 수원시 영통구 도청로 30 (이의동)\n",
       "1   장안구청  경기도 수원시 장안구 송원로 101 (조원동)\n",
       "2   권선구청   경기도 수원시 권선구 호매실로 12 (탑동)\n",
       "3   팔달구청  경기도 수원시 팔달구 창룡대로 23 (매향동)\n",
       "4   영통구청  경기도 수원시 영통구 효원로 407 (매탄동)"
      ]
     },
     "execution_count": 15,
     "metadata": {},
     "output_type": "execute_result"
    }
   ],
   "source": [
    "df.to_csv('data/수원소재관공서.csv', index=False)\n",
    "pd.read_csv('data/수원소재관공서.csv')"
   ]
  },
  {
   "cell_type": "code",
   "execution_count": null,
   "metadata": {},
   "outputs": [],
   "source": []
  }
 ],
 "metadata": {
  "kernelspec": {
   "display_name": "base",
   "language": "python",
   "name": "python3"
  },
  "language_info": {
   "codemirror_mode": {
    "name": "ipython",
    "version": 3
   },
   "file_extension": ".py",
   "mimetype": "text/x-python",
   "name": "python",
   "nbconvert_exporter": "python",
   "pygments_lexer": "ipython3",
   "version": "3.10.9"
  },
  "orig_nbformat": 4
 },
 "nbformat": 4,
 "nbformat_minor": 2
}
