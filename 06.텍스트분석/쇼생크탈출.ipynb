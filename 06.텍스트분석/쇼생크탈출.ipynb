{
 "cells": [
  {
   "cell_type": "code",
   "execution_count": 98,
   "metadata": {},
   "outputs": [],
   "source": [
    "import time\n",
    "import pandas as pd\n",
    "from selenium import webdriver\n",
    "from selenium.webdriver.common.by import By\n",
    "from selenium.webdriver.common.keys import Keys\n",
    "from bs4 import BeautifulSoup\n",
    "import warnings\n",
    "from urllib.parse import quote\n",
    "import requests\n",
    "warnings.filterwarnings('ignore')\n",
    "from tqdm import tqdm"
   ]
  },
  {
   "cell_type": "code",
   "execution_count": 99,
   "metadata": {},
   "outputs": [],
   "source": [
    "base_url = 'https://www.imdb.com/title/tt0111161/reviews/?ref_=tt_ql_2'\n",
    "url = base_url\n",
    "driver = webdriver.Chrome('C:/Users/YONSAI/Downloads/chromedriver.exe')\n",
    "driver.get(url)"
   ]
  },
  {
   "cell_type": "code",
   "execution_count": 100,
   "metadata": {},
   "outputs": [
    {
     "data": {
      "text/plain": [
       "100"
      ]
     },
     "execution_count": 100,
     "metadata": {},
     "output_type": "execute_result"
    }
   ],
   "source": [
    "\n",
    "len(divs)"
   ]
  },
  {
   "cell_type": "code",
   "execution_count": 101,
   "metadata": {},
   "outputs": [],
   "source": [
    "divs = driver.find_elements(By.CSS_SELECTOR, '.lister-item.mode-detail.imdb-user-review')\n",
    "count = 0\n",
    "for div in divs:\n",
    "    try:\n",
    "        div.find_element(By.CSS_SELECTOR, '.expander-icon-wrapper').click()\n",
    "        time.sleep(1)\n",
    "        count += 1\n",
    "    except:\n",
    "        continue"
   ]
  },
  {
   "cell_type": "code",
   "execution_count": 102,
   "metadata": {},
   "outputs": [
    {
     "ename": "NoSuchWindowException",
     "evalue": "Message: no such window: target window already closed\nfrom unknown error: web view not found\n  (Session info: chrome=112.0.5615.138)\nStacktrace:\nBacktrace:\n\tGetHandleVerifier [0x00D4DCE3+50899]\n\t(No symbol) [0x00CDE111]\n\t(No symbol) [0x00BE5588]\n\t(No symbol) [0x00BCD333]\n\t(No symbol) [0x00C2F4DB]\n\t(No symbol) [0x00C3DB33]\n\t(No symbol) [0x00C2B6F6]\n\t(No symbol) [0x00C07708]\n\t(No symbol) [0x00C0886D]\n\tGetHandleVerifier [0x00FB3EAE+2566302]\n\tGetHandleVerifier [0x00FE92B1+2784417]\n\tGetHandleVerifier [0x00FE327C+2759788]\n\tGetHandleVerifier [0x00DE5740+672048]\n\t(No symbol) [0x00CE8872]\n\t(No symbol) [0x00CE41C8]\n\t(No symbol) [0x00CE42AB]\n\t(No symbol) [0x00CD71B7]\n\tBaseThreadInitThunk [0x76350099+25]\n\tRtlGetAppContainerNamedObjectPath [0x772E7B6E+286]\n\tRtlGetAppContainerNamedObjectPath [0x772E7B3E+238]\n",
     "output_type": "error",
     "traceback": [
      "\u001b[1;31m---------------------------------------------------------------------------\u001b[0m",
      "\u001b[1;31mNoSuchWindowException\u001b[0m                     Traceback (most recent call last)",
      "Cell \u001b[1;32mIn[102], line 1\u001b[0m\n\u001b[1;32m----> 1\u001b[0m soup \u001b[39m=\u001b[39m BeautifulSoup(driver\u001b[39m.\u001b[39;49mpage_source, \u001b[39m'\u001b[39m\u001b[39mhtml.parser\u001b[39m\u001b[39m'\u001b[39m) \n\u001b[0;32m      2\u001b[0m divs \u001b[39m=\u001b[39m soup\u001b[39m.\u001b[39mselect(\u001b[39m'\u001b[39m\u001b[39m.lister-list > div\u001b[39m\u001b[39m'\u001b[39m)\n\u001b[0;32m      3\u001b[0m \u001b[39mlen\u001b[39m(divs), count\n",
      "File \u001b[1;32mc:\\Users\\YONSAI\\anaconda3\\lib\\site-packages\\selenium\\webdriver\\remote\\webdriver.py:541\u001b[0m, in \u001b[0;36mWebDriver.page_source\u001b[1;34m(self)\u001b[0m\n\u001b[0;32m    532\u001b[0m \u001b[39m@property\u001b[39m\n\u001b[0;32m    533\u001b[0m \u001b[39mdef\u001b[39;00m \u001b[39mpage_source\u001b[39m(\u001b[39mself\u001b[39m) \u001b[39m-\u001b[39m\u001b[39m>\u001b[39m \u001b[39mstr\u001b[39m:\n\u001b[0;32m    534\u001b[0m \u001b[39m    \u001b[39m\u001b[39m\"\"\"Gets the source of the current page.\u001b[39;00m\n\u001b[0;32m    535\u001b[0m \n\u001b[0;32m    536\u001b[0m \u001b[39m    :Usage:\u001b[39;00m\n\u001b[1;32m   (...)\u001b[0m\n\u001b[0;32m    539\u001b[0m \u001b[39m            driver.page_source\u001b[39;00m\n\u001b[0;32m    540\u001b[0m \u001b[39m    \"\"\"\u001b[39;00m\n\u001b[1;32m--> 541\u001b[0m     \u001b[39mreturn\u001b[39;00m \u001b[39mself\u001b[39;49m\u001b[39m.\u001b[39;49mexecute(Command\u001b[39m.\u001b[39;49mGET_PAGE_SOURCE)[\u001b[39m\"\u001b[39m\u001b[39mvalue\u001b[39m\u001b[39m\"\u001b[39m]\n",
      "File \u001b[1;32mc:\\Users\\YONSAI\\anaconda3\\lib\\site-packages\\selenium\\webdriver\\remote\\webdriver.py:440\u001b[0m, in \u001b[0;36mWebDriver.execute\u001b[1;34m(self, driver_command, params)\u001b[0m\n\u001b[0;32m    438\u001b[0m response \u001b[39m=\u001b[39m \u001b[39mself\u001b[39m\u001b[39m.\u001b[39mcommand_executor\u001b[39m.\u001b[39mexecute(driver_command, params)\n\u001b[0;32m    439\u001b[0m \u001b[39mif\u001b[39;00m response:\n\u001b[1;32m--> 440\u001b[0m     \u001b[39mself\u001b[39;49m\u001b[39m.\u001b[39;49merror_handler\u001b[39m.\u001b[39;49mcheck_response(response)\n\u001b[0;32m    441\u001b[0m     response[\u001b[39m\"\u001b[39m\u001b[39mvalue\u001b[39m\u001b[39m\"\u001b[39m] \u001b[39m=\u001b[39m \u001b[39mself\u001b[39m\u001b[39m.\u001b[39m_unwrap_value(response\u001b[39m.\u001b[39mget(\u001b[39m\"\u001b[39m\u001b[39mvalue\u001b[39m\u001b[39m\"\u001b[39m, \u001b[39mNone\u001b[39;00m))\n\u001b[0;32m    442\u001b[0m     \u001b[39mreturn\u001b[39;00m response\n",
      "File \u001b[1;32mc:\\Users\\YONSAI\\anaconda3\\lib\\site-packages\\selenium\\webdriver\\remote\\errorhandler.py:245\u001b[0m, in \u001b[0;36mErrorHandler.check_response\u001b[1;34m(self, response)\u001b[0m\n\u001b[0;32m    243\u001b[0m         alert_text \u001b[39m=\u001b[39m value[\u001b[39m\"\u001b[39m\u001b[39malert\u001b[39m\u001b[39m\"\u001b[39m]\u001b[39m.\u001b[39mget(\u001b[39m\"\u001b[39m\u001b[39mtext\u001b[39m\u001b[39m\"\u001b[39m)\n\u001b[0;32m    244\u001b[0m     \u001b[39mraise\u001b[39;00m exception_class(message, screen, stacktrace, alert_text)  \u001b[39m# type: ignore[call-arg]  # mypy is not smart enough here\u001b[39;00m\n\u001b[1;32m--> 245\u001b[0m \u001b[39mraise\u001b[39;00m exception_class(message, screen, stacktrace)\n",
      "\u001b[1;31mNoSuchWindowException\u001b[0m: Message: no such window: target window already closed\nfrom unknown error: web view not found\n  (Session info: chrome=112.0.5615.138)\nStacktrace:\nBacktrace:\n\tGetHandleVerifier [0x00D4DCE3+50899]\n\t(No symbol) [0x00CDE111]\n\t(No symbol) [0x00BE5588]\n\t(No symbol) [0x00BCD333]\n\t(No symbol) [0x00C2F4DB]\n\t(No symbol) [0x00C3DB33]\n\t(No symbol) [0x00C2B6F6]\n\t(No symbol) [0x00C07708]\n\t(No symbol) [0x00C0886D]\n\tGetHandleVerifier [0x00FB3EAE+2566302]\n\tGetHandleVerifier [0x00FE92B1+2784417]\n\tGetHandleVerifier [0x00FE327C+2759788]\n\tGetHandleVerifier [0x00DE5740+672048]\n\t(No symbol) [0x00CE8872]\n\t(No symbol) [0x00CE41C8]\n\t(No symbol) [0x00CE42AB]\n\t(No symbol) [0x00CD71B7]\n\tBaseThreadInitThunk [0x76350099+25]\n\tRtlGetAppContainerNamedObjectPath [0x772E7B6E+286]\n\tRtlGetAppContainerNamedObjectPath [0x772E7B3E+238]\n"
     ]
    }
   ],
   "source": [
    "soup = BeautifulSoup(driver.page_source, 'html.parser') \n",
    "divs = soup.select('.lister-list > div')\n",
    "len(divs), count"
   ]
  },
  {
   "cell_type": "code",
   "execution_count": null,
   "metadata": {},
   "outputs": [
    {
     "data": {
      "text/plain": [
       "100"
      ]
     },
     "execution_count": 95,
     "metadata": {},
     "output_type": "execute_result"
    }
   ],
   "source": [
    "soup = BeautifulSoup(driver.page_source, 'html.parser') \n",
    "divs = soup.select('.lister-list > div')\n",
    "len(divs)"
   ]
  },
  {
   "cell_type": "code",
   "execution_count": null,
   "metadata": {},
   "outputs": [
    {
     "ename": "AttributeError",
     "evalue": "'WebElement' object has no attribute 'select_one'",
     "output_type": "error",
     "traceback": [
      "\u001b[1;31m---------------------------------------------------------------------------\u001b[0m",
      "\u001b[1;31mAttributeError\u001b[0m                            Traceback (most recent call last)",
      "Cell \u001b[1;32mIn[97], line 2\u001b[0m\n\u001b[0;32m      1\u001b[0m div \u001b[39m=\u001b[39m divs[\u001b[39m0\u001b[39m]\n\u001b[1;32m----> 2\u001b[0m score \u001b[39m=\u001b[39m div\u001b[39m.\u001b[39;49mselect_one(\u001b[39m'\u001b[39m\u001b[39m.rating-other-user-rating > span\u001b[39m\u001b[39m'\u001b[39m)\u001b[39m.\u001b[39mget_text()\u001b[39m.\u001b[39mstrip()\n\u001b[0;32m      3\u001b[0m score  \n",
      "\u001b[1;31mAttributeError\u001b[0m: 'WebElement' object has no attribute 'select_one'"
     ]
    }
   ],
   "source": [
    "div = divs[0]\n",
    "score = div.select_one('.rating-other-user-rating > span').get_text().strip()\n",
    "score  "
   ]
  },
  {
   "cell_type": "code",
   "execution_count": null,
   "metadata": {},
   "outputs": [
    {
     "ename": "AttributeError",
     "evalue": "'WebElement' object has no attribute 'select_one'",
     "output_type": "error",
     "traceback": [
      "\u001b[1;31m---------------------------------------------------------------------------\u001b[0m",
      "\u001b[1;31mAttributeError\u001b[0m                            Traceback (most recent call last)",
      "Cell \u001b[1;32mIn[96], line 2\u001b[0m\n\u001b[0;32m      1\u001b[0m divs[\u001b[39m0\u001b[39m] \u001b[39m=\u001b[39m div\n\u001b[1;32m----> 2\u001b[0m body \u001b[39m=\u001b[39m div\u001b[39m.\u001b[39;49mselect_one(\u001b[39m'\u001b[39m\u001b[39m.text.show-more__control\u001b[39m\u001b[39m'\u001b[39m)\u001b[39m.\u001b[39mget_text()\u001b[39m.\u001b[39mstrip()\n\u001b[0;32m      3\u001b[0m body\n",
      "\u001b[1;31mAttributeError\u001b[0m: 'WebElement' object has no attribute 'select_one'"
     ]
    }
   ],
   "source": [
    "divs[0] = div\n",
    "body = div.select_one('.text.show-more__control').get_text().strip()\n",
    "body"
   ]
  },
  {
   "cell_type": "code",
   "execution_count": null,
   "metadata": {},
   "outputs": [
    {
     "data": {
      "text/plain": [
       "'Two movies in one'"
      ]
     },
     "execution_count": 88,
     "metadata": {},
     "output_type": "execute_result"
    }
   ],
   "source": [
    "title = div.select_one('.title').get_text().strip() \n",
    "title"
   ]
  },
  {
   "cell_type": "code",
   "execution_count": null,
   "metadata": {},
   "outputs": [
    {
     "ename": "InvalidSessionIdException",
     "evalue": "Message: invalid session id\nStacktrace:\nBacktrace:\n\tGetHandleVerifier [0x00D4DCE3+50899]\n\t(No symbol) [0x00CDE111]\n\t(No symbol) [0x00BE5450]\n\t(No symbol) [0x00C070B8]\n\t(No symbol) [0x00C2B7F6]\n\t(No symbol) [0x00C28722]\n\t(No symbol) [0x00C27ADE]\n\t(No symbol) [0x00BC5391]\n\t(No symbol) [0x00BC598E]\n\t(No symbol) [0x00BC5D6A]\n\tGetHandleVerifier [0x00FB3EAE+2566302]\n\tGetHandleVerifier [0x00FE92B1+2784417]\n\tGetHandleVerifier [0x00FE327C+2759788]\n\tGetHandleVerifier [0x00DE5740+672048]\n\t(No symbol) [0x00CE8872]\n\t(No symbol) [0x00BC4FEA]\n\t(No symbol) [0x00BC49EF]\n\tGetHandleVerifier [0x0100BBCC+2926012]\n\tBaseThreadInitThunk [0x76350099+25]\n\tRtlGetAppContainerNamedObjectPath [0x772E7B6E+286]\n\tRtlGetAppContainerNamedObjectPath [0x772E7B3E+238]\n",
     "output_type": "error",
     "traceback": [
      "\u001b[1;31m---------------------------------------------------------------------------\u001b[0m",
      "\u001b[1;31mInvalidSessionIdException\u001b[0m                 Traceback (most recent call last)",
      "Cell \u001b[1;32mIn[65], line 3\u001b[0m\n\u001b[0;32m      1\u001b[0m lines \u001b[39m=\u001b[39m []\n\u001b[0;32m      2\u001b[0m \u001b[39mfor\u001b[39;00m i \u001b[39min\u001b[39;00m \u001b[39mrange\u001b[39m(\u001b[39m1\u001b[39m,\u001b[39m10\u001b[39m):\n\u001b[1;32m----> 3\u001b[0m         driver\u001b[39m.\u001b[39;49mfind_element(By\u001b[39m.\u001b[39;49mCLASS_NAME, \u001b[39m'\u001b[39;49m\u001b[39mipl-load-more__button\u001b[39;49m\u001b[39m'\u001b[39;49m)\u001b[39m.\u001b[39mclick()\n\u001b[0;32m      4\u001b[0m         time\u001b[39m.\u001b[39msleep(\u001b[39m4\u001b[39m)\n\u001b[0;32m      5\u001b[0m         \u001b[39mfor\u001b[39;00m li \u001b[39min\u001b[39;00m lis:\n",
      "File \u001b[1;32mc:\\Users\\YONSAI\\anaconda3\\lib\\site-packages\\selenium\\webdriver\\remote\\webdriver.py:831\u001b[0m, in \u001b[0;36mWebDriver.find_element\u001b[1;34m(self, by, value)\u001b[0m\n\u001b[0;32m    828\u001b[0m     by \u001b[39m=\u001b[39m By\u001b[39m.\u001b[39mCSS_SELECTOR\n\u001b[0;32m    829\u001b[0m     value \u001b[39m=\u001b[39m \u001b[39mf\u001b[39m\u001b[39m'\u001b[39m\u001b[39m[name=\u001b[39m\u001b[39m\"\u001b[39m\u001b[39m{\u001b[39;00mvalue\u001b[39m}\u001b[39;00m\u001b[39m\"\u001b[39m\u001b[39m]\u001b[39m\u001b[39m'\u001b[39m\n\u001b[1;32m--> 831\u001b[0m \u001b[39mreturn\u001b[39;00m \u001b[39mself\u001b[39;49m\u001b[39m.\u001b[39;49mexecute(Command\u001b[39m.\u001b[39;49mFIND_ELEMENT, {\u001b[39m\"\u001b[39;49m\u001b[39musing\u001b[39;49m\u001b[39m\"\u001b[39;49m: by, \u001b[39m\"\u001b[39;49m\u001b[39mvalue\u001b[39;49m\u001b[39m\"\u001b[39;49m: value})[\u001b[39m\"\u001b[39m\u001b[39mvalue\u001b[39m\u001b[39m\"\u001b[39m]\n",
      "File \u001b[1;32mc:\\Users\\YONSAI\\anaconda3\\lib\\site-packages\\selenium\\webdriver\\remote\\webdriver.py:440\u001b[0m, in \u001b[0;36mWebDriver.execute\u001b[1;34m(self, driver_command, params)\u001b[0m\n\u001b[0;32m    438\u001b[0m response \u001b[39m=\u001b[39m \u001b[39mself\u001b[39m\u001b[39m.\u001b[39mcommand_executor\u001b[39m.\u001b[39mexecute(driver_command, params)\n\u001b[0;32m    439\u001b[0m \u001b[39mif\u001b[39;00m response:\n\u001b[1;32m--> 440\u001b[0m     \u001b[39mself\u001b[39;49m\u001b[39m.\u001b[39;49merror_handler\u001b[39m.\u001b[39;49mcheck_response(response)\n\u001b[0;32m    441\u001b[0m     response[\u001b[39m\"\u001b[39m\u001b[39mvalue\u001b[39m\u001b[39m\"\u001b[39m] \u001b[39m=\u001b[39m \u001b[39mself\u001b[39m\u001b[39m.\u001b[39m_unwrap_value(response\u001b[39m.\u001b[39mget(\u001b[39m\"\u001b[39m\u001b[39mvalue\u001b[39m\u001b[39m\"\u001b[39m, \u001b[39mNone\u001b[39;00m))\n\u001b[0;32m    442\u001b[0m     \u001b[39mreturn\u001b[39;00m response\n",
      "File \u001b[1;32mc:\\Users\\YONSAI\\anaconda3\\lib\\site-packages\\selenium\\webdriver\\remote\\errorhandler.py:245\u001b[0m, in \u001b[0;36mErrorHandler.check_response\u001b[1;34m(self, response)\u001b[0m\n\u001b[0;32m    243\u001b[0m         alert_text \u001b[39m=\u001b[39m value[\u001b[39m\"\u001b[39m\u001b[39malert\u001b[39m\u001b[39m\"\u001b[39m]\u001b[39m.\u001b[39mget(\u001b[39m\"\u001b[39m\u001b[39mtext\u001b[39m\u001b[39m\"\u001b[39m)\n\u001b[0;32m    244\u001b[0m     \u001b[39mraise\u001b[39;00m exception_class(message, screen, stacktrace, alert_text)  \u001b[39m# type: ignore[call-arg]  # mypy is not smart enough here\u001b[39;00m\n\u001b[1;32m--> 245\u001b[0m \u001b[39mraise\u001b[39;00m exception_class(message, screen, stacktrace)\n",
      "\u001b[1;31mInvalidSessionIdException\u001b[0m: Message: invalid session id\nStacktrace:\nBacktrace:\n\tGetHandleVerifier [0x00D4DCE3+50899]\n\t(No symbol) [0x00CDE111]\n\t(No symbol) [0x00BE5450]\n\t(No symbol) [0x00C070B8]\n\t(No symbol) [0x00C2B7F6]\n\t(No symbol) [0x00C28722]\n\t(No symbol) [0x00C27ADE]\n\t(No symbol) [0x00BC5391]\n\t(No symbol) [0x00BC598E]\n\t(No symbol) [0x00BC5D6A]\n\tGetHandleVerifier [0x00FB3EAE+2566302]\n\tGetHandleVerifier [0x00FE92B1+2784417]\n\tGetHandleVerifier [0x00FE327C+2759788]\n\tGetHandleVerifier [0x00DE5740+672048]\n\t(No symbol) [0x00CE8872]\n\t(No symbol) [0x00BC4FEA]\n\t(No symbol) [0x00BC49EF]\n\tGetHandleVerifier [0x0100BBCC+2926012]\n\tBaseThreadInitThunk [0x76350099+25]\n\tRtlGetAppContainerNamedObjectPath [0x772E7B6E+286]\n\tRtlGetAppContainerNamedObjectPath [0x772E7B3E+238]\n"
     ]
    }
   ],
   "source": [
    "lines = []\n",
    "for i in range(10):\n",
    "    driver.find_element(By.ID, 'load-more-trigger').click()\n",
    "    time.sleep(3)\n",
    "        for li in lis:\n",
    "                driver.find_element(By.CLASS_NAME,'expander-icon-wrapper spoiler-warning__control').click()\n",
    "                title = li.select_one('div > div.lister-item-content>a').get_text().strip()\n",
    "                body = li.select_one('div.review-container > div.lister-item-content > div.content > div.text.show-more__control').get_text().strip()\n",
    "                \n",
    "                \n",
    "        lines.append({'제목':title,'내용':body})\n",
    "      "
   ]
  },
  {
   "cell_type": "code",
   "execution_count": null,
   "metadata": {},
   "outputs": [
    {
     "data": {
      "text/html": [
       "<div>\n",
       "<style scoped>\n",
       "    .dataframe tbody tr th:only-of-type {\n",
       "        vertical-align: middle;\n",
       "    }\n",
       "\n",
       "    .dataframe tbody tr th {\n",
       "        vertical-align: top;\n",
       "    }\n",
       "\n",
       "    .dataframe thead th {\n",
       "        text-align: right;\n",
       "    }\n",
       "</style>\n",
       "<table border=\"1\" class=\"dataframe\">\n",
       "  <thead>\n",
       "    <tr style=\"text-align: right;\">\n",
       "      <th></th>\n",
       "      <th>제목</th>\n",
       "      <th>내용</th>\n",
       "    </tr>\n",
       "  </thead>\n",
       "  <tbody>\n",
       "    <tr>\n",
       "      <th>0</th>\n",
       "      <td>Two movies in one</td>\n",
       "      <td>The reason I became a member of this database ...</td>\n",
       "    </tr>\n",
       "    <tr>\n",
       "      <th>1</th>\n",
       "      <td>Two movies in one</td>\n",
       "      <td>The reason I became a member of this database ...</td>\n",
       "    </tr>\n",
       "    <tr>\n",
       "      <th>2</th>\n",
       "      <td>Two movies in one</td>\n",
       "      <td>The reason I became a member of this database ...</td>\n",
       "    </tr>\n",
       "    <tr>\n",
       "      <th>3</th>\n",
       "      <td>Two movies in one</td>\n",
       "      <td>The reason I became a member of this database ...</td>\n",
       "    </tr>\n",
       "    <tr>\n",
       "      <th>4</th>\n",
       "      <td>Two movies in one</td>\n",
       "      <td>The reason I became a member of this database ...</td>\n",
       "    </tr>\n",
       "    <tr>\n",
       "      <th>5</th>\n",
       "      <td>Two movies in one</td>\n",
       "      <td>The reason I became a member of this database ...</td>\n",
       "    </tr>\n",
       "    <tr>\n",
       "      <th>6</th>\n",
       "      <td>Two movies in one</td>\n",
       "      <td>The reason I became a member of this database ...</td>\n",
       "    </tr>\n",
       "    <tr>\n",
       "      <th>7</th>\n",
       "      <td>Two movies in one</td>\n",
       "      <td>The reason I became a member of this database ...</td>\n",
       "    </tr>\n",
       "    <tr>\n",
       "      <th>8</th>\n",
       "      <td>Two movies in one</td>\n",
       "      <td>The reason I became a member of this database ...</td>\n",
       "    </tr>\n",
       "  </tbody>\n",
       "</table>\n",
       "</div>"
      ],
      "text/plain": [
       "                  제목                                                 내용\n",
       "0  Two movies in one  The reason I became a member of this database ...\n",
       "1  Two movies in one  The reason I became a member of this database ...\n",
       "2  Two movies in one  The reason I became a member of this database ...\n",
       "3  Two movies in one  The reason I became a member of this database ...\n",
       "4  Two movies in one  The reason I became a member of this database ...\n",
       "5  Two movies in one  The reason I became a member of this database ...\n",
       "6  Two movies in one  The reason I became a member of this database ...\n",
       "7  Two movies in one  The reason I became a member of this database ...\n",
       "8  Two movies in one  The reason I became a member of this database ..."
      ]
     },
     "execution_count": 57,
     "metadata": {},
     "output_type": "execute_result"
    }
   ],
   "source": [
    "df = pd.DataFrame(lines)\n",
    "df"
   ]
  },
  {
   "cell_type": "code",
   "execution_count": null,
   "metadata": {},
   "outputs": [],
   "source": [
    "df.to_csv('data/쇼생크.csv')"
   ]
  },
  {
   "cell_type": "code",
   "execution_count": null,
   "metadata": {},
   "outputs": [],
   "source": [
    "driver.close()"
   ]
  }
 ],
 "metadata": {
  "kernelspec": {
   "display_name": "base",
   "language": "python",
   "name": "python3"
  },
  "language_info": {
   "codemirror_mode": {
    "name": "ipython",
    "version": 3
   },
   "file_extension": ".py",
   "mimetype": "text/x-python",
   "name": "python",
   "nbconvert_exporter": "python",
   "pygments_lexer": "ipython3",
   "version": "3.10.9"
  },
  "orig_nbformat": 4
 },
 "nbformat": 4,
 "nbformat_minor": 2
}
